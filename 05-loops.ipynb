{
 "cells": [
  {
   "cell_type": "markdown",
   "id": "ce2be2fc-1ace-4601-85a9-7e0ec49b6111",
   "metadata": {},
   "source": [
    "In the previous episode, we have seen how to write Python code that plots values of interest from the wave-height dataset. \n",
    "\n",
    "And the question now is how to make the computer to repeat things for us, for example in a situation where we want to perform the same operations on many different values."
   ]
  },
  {
   "cell_type": "markdown",
   "id": "57f9fe5b-5704-4470-9e70-2ab85e425b6c",
   "metadata": {},
   "source": [
    "To answer this question we need to understand what a for loop is and what its uses are.\n",
    "Furthermore, in this episode we will also learn:\n",
    "\n",
    "- how to write for loops to repeat simple calculations\n",
    "- how to trace change to a loop variable as the loops runs\n",
    "- how to trace changes to other variables as they are updated in a for loop"
   ]
  },
  {
   "cell_type": "markdown",
   "id": "46d48044-b191-4f38-8dd5-e02a0f9611f9",
   "metadata": {},
   "source": [
    "For example, let's say that the task we want to repeat is accessing numbers in a list"
   ]
  },
  {
   "cell_type": "code",
   "execution_count": 2,
   "id": "7ff8177f-2141-44f9-b8c2-9575f18bcac0",
   "metadata": {},
   "outputs": [],
   "source": [
    "odds = [1, 3, 5, 7]"
   ]
  },
  {
   "cell_type": "markdown",
   "id": "bf8a61a9-1945-4b3d-a030-7b248ac09300",
   "metadata": {},
   "source": [
    "A simple in which we can do this is by printing each number on a line of its own."
   ]
  },
  {
   "cell_type": "code",
   "execution_count": 3,
   "id": "1cb2aff0-afb1-43f5-aa65-53005f84a886",
   "metadata": {},
   "outputs": [
    {
     "name": "stdout",
     "output_type": "stream",
     "text": [
      "1\n",
      "3\n",
      "5\n",
      "7\n"
     ]
    }
   ],
   "source": [
    "print(odds[0])\n",
    "print(odds[1])\n",
    "print(odds[2])\n",
    "print(odds[3])"
   ]
  },
  {
   "cell_type": "markdown",
   "id": "bfe0b74b-425f-479e-af27-b11eca19fc10",
   "metadata": {},
   "source": [
    "However, this is a bad approach for various reasons.\n",
    "\n",
    "\n",
    "- First, it is not scalable. Imagine you need to print a list that has hundreds of elements. It would be quite laborious to write print statements for all of these.\n",
    "\n",
    "- This approach is also difficult to maintain. If we want to print something more than just the list element, we would have to change each print statemente manually. And this becomes a problem for very long lists. \n",
    "\n",
    "- Fragile. If we use it with a list that has more elements than what we initially envisioned, it will only display part of the list’s elements. A shorter list, on the other hand, will cause an error because it will be trying to display elements of the list that do not exist.\n"
   ]
  },
  {
   "cell_type": "code",
   "execution_count": 4,
   "id": "7322deea-9a78-4957-8158-8aa5a0b285c7",
   "metadata": {},
   "outputs": [
    {
     "name": "stdout",
     "output_type": "stream",
     "text": [
      "1\n",
      "3\n",
      "5\n"
     ]
    },
    {
     "ename": "IndexError",
     "evalue": "list index out of range",
     "output_type": "error",
     "traceback": [
      "\u001b[0;31m---------------------------------------------------------------------------\u001b[0m",
      "\u001b[0;31mIndexError\u001b[0m                                Traceback (most recent call last)",
      "Cell \u001b[0;32mIn[4], line 5\u001b[0m\n\u001b[1;32m      3\u001b[0m \u001b[38;5;28mprint\u001b[39m(odds[\u001b[38;5;241m1\u001b[39m])\n\u001b[1;32m      4\u001b[0m \u001b[38;5;28mprint\u001b[39m(odds[\u001b[38;5;241m2\u001b[39m])\n\u001b[0;32m----> 5\u001b[0m \u001b[38;5;28mprint\u001b[39m(\u001b[43modds\u001b[49m\u001b[43m[\u001b[49m\u001b[38;5;241;43m3\u001b[39;49m\u001b[43m]\u001b[49m)\n",
      "\u001b[0;31mIndexError\u001b[0m: list index out of range"
     ]
    }
   ],
   "source": [
    "odds = [1, 3, 5]\n",
    "print(odds[0])\n",
    "print(odds[1])\n",
    "print(odds[2])\n",
    "print(odds[3])"
   ]
  },
  {
   "cell_type": "markdown",
   "id": "07237020-8c14-4373-8183-cd2c6e8345c0",
   "metadata": {},
   "source": [
    "A better approach to print the elements of a list is then to use a for loop. And this can be done in the following way:"
   ]
  },
  {
   "cell_type": "code",
   "execution_count": 5,
   "id": "69782b62-fcc7-46a3-9a1f-5a95e488b51f",
   "metadata": {},
   "outputs": [
    {
     "name": "stdout",
     "output_type": "stream",
     "text": [
      "1\n",
      "3\n",
      "5\n",
      "7\n"
     ]
    }
   ],
   "source": [
    "odds = [1, 3, 5, 7]\n",
    "for num in odds:\n",
    "    print(num)"
   ]
  },
  {
   "cell_type": "markdown",
   "id": "0a53b520-bdf5-453d-b7f9-d4ed018b9b3f",
   "metadata": {},
   "source": [
    "This is a much more robust approach because we can use exactly the same for loop regardless of the list we have."
   ]
  },
  {
   "cell_type": "code",
   "execution_count": 6,
   "id": "a3c7340d-582a-4ad2-9833-3a0a3a6838cc",
   "metadata": {},
   "outputs": [
    {
     "name": "stdout",
     "output_type": "stream",
     "text": [
      "1\n",
      "3\n",
      "5\n",
      "7\n",
      "9\n",
      "11\n"
     ]
    }
   ],
   "source": [
    "odds = [1, 3, 5, 7, 9, 11]\n",
    "for num in odds:\n",
    "    print(num)"
   ]
  },
  {
   "cell_type": "markdown",
   "id": "62db6b34-7b44-4320-b603-d4fed6e1e9dd",
   "metadata": {},
   "source": [
    "Just to make it clear we can call the loop variable anything we like, but there must be a colon at the end of the line starting the loop, and we must indent anything we want to run inside the loop.\n",
    "\n",
    "In our previous example our loop variables was called num, but we could for example call it banana."
   ]
  },
  {
   "cell_type": "code",
   "execution_count": 7,
   "id": "7ce2943f-8e6b-40c2-b019-f07b64f449b9",
   "metadata": {},
   "outputs": [
    {
     "name": "stdout",
     "output_type": "stream",
     "text": [
      "1\n",
      "3\n",
      "5\n",
      "7\n",
      "9\n",
      "11\n"
     ]
    }
   ],
   "source": [
    "odds = [1, 3, 5, 7, 9, 11]\n",
    "for banana in odds:\n",
    "    print(banana)"
   ]
  },
  {
   "cell_type": "markdown",
   "id": "c180ef21-d96b-4c45-a20c-eb3924db18b4",
   "metadata": {},
   "source": [
    "Now let's see how to trace change to a loop variable as the loops runs.\n",
    "\n",
    "Say that for example we have a list and that we want to get the number of elements of that list. One way to do this would be to write following for loop:"
   ]
  },
  {
   "cell_type": "code",
   "execution_count": 8,
   "id": "c27382ec-009f-490a-a801-b6c219c6782b",
   "metadata": {},
   "outputs": [
    {
     "name": "stdout",
     "output_type": "stream",
     "text": [
      "There are 3 names in the list.\n"
     ]
    }
   ],
   "source": [
    "length = 0\n",
    "names = ['Curie', 'Darwin', 'Turing']\n",
    "for value in names:\n",
    "    length = length + 1\n",
    "    \n",
    "print('There are', length, 'names in the list.')"
   ]
  },
  {
   "cell_type": "markdown",
   "id": "1c7f5d46-95f0-4fa0-bb5d-fb78e49dabc2",
   "metadata": {},
   "source": [
    "\n",
    "\n",
    "It’s worth understading the execution of this loop step by step. \n",
    "\n",
    "Since there are three names in names, the sum statement will be executed three times. The first time around, length is zero (the value assigned to it on line 1) and value is Curie. The statement adds 1 to the old value of length, producing 1, and updates length to refer to that new value. The next time around, value is Darwin and length is 1, so length is updated to be 2. After one more update, length is 3; since there is nothing left in names for Python to process, the loop finishes and the print function on line 5 tells us our final answer.\n",
    "\n",
    "**Note that a loop variable is a variable that is being used to record progress in a loop. It still exists after the loop is over, and we can re-use variables previously defined as loop variables as well**"
   ]
  },
  {
   "cell_type": "code",
   "execution_count": 9,
   "id": "8d8a68d4-59c2-4738-bc8f-51a9c6df4758",
   "metadata": {},
   "outputs": [
    {
     "name": "stdout",
     "output_type": "stream",
     "text": [
      "Turing\n"
     ]
    }
   ],
   "source": [
    "print(value)"
   ]
  },
  {
   "cell_type": "markdown",
   "id": "30c3e1f5-4575-42de-8bc8-6e04be332f2f",
   "metadata": {},
   "source": [
    "Fortunately, there is an easier to find the length of a list in Python. This can be done  using a built-in function callen len:"
   ]
  },
  {
   "cell_type": "code",
   "execution_count": 10,
   "id": "c24617f7-785e-47f4-89ac-bdc8f4204bee",
   "metadata": {},
   "outputs": [
    {
     "name": "stdout",
     "output_type": "stream",
     "text": [
      "3\n"
     ]
    }
   ],
   "source": [
    "print(len(names))"
   ]
  },
  {
   "cell_type": "markdown",
   "id": "eeca874e-3984-4965-89f8-3a66a027c0dc",
   "metadata": {},
   "source": [
    "The key takeaways of this episode are that:\n",
    "\n",
    "- We can use for loops to process the elements of a sequence one at a time.\n",
    "- The body of a for loop must be indented.\n",
    "- We can use the built-in len function to determine the length of something that contains values.\n"
   ]
  },
  {
   "cell_type": "code",
   "execution_count": null,
   "id": "cff54e2c-cb00-4834-ad4c-f1d96a823e5a",
   "metadata": {},
   "outputs": [],
   "source": []
  }
 ],
 "metadata": {
  "kernelspec": {
   "display_name": "Python 3 (ipykernel)",
   "language": "python",
   "name": "python3"
  },
  "language_info": {
   "codemirror_mode": {
    "name": "ipython",
    "version": 3
   },
   "file_extension": ".py",
   "mimetype": "text/x-python",
   "name": "python",
   "nbconvert_exporter": "python",
   "pygments_lexer": "ipython3",
   "version": "3.11.0"
  }
 },
 "nbformat": 4,
 "nbformat_minor": 5
}
