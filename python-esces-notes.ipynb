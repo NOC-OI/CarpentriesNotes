{
 "cells": [
  {
   "cell_type": "markdown",
   "id": "6164cdd3-7e82-4819-9fa9-fc8b3db3a0fd",
   "metadata": {},
   "source": [
    "# Variables\n",
    "* we can use python like a calculator"
   ]
  },
  {
   "cell_type": "markdown",
   "id": "44e875e8-2bdc-4fe5-903a-d3a181c8cec5",
   "metadata": {
    "tags": []
   },
   "source": [
    "3 + 5 * 4"
   ]
  },
  {
   "cell_type": "markdown",
   "id": "6dfe4583-5347-4f8d-a18e-41569ea4602f",
   "metadata": {},
   "source": [
    "* or we can assign things to variables"
   ]
  },
  {
   "cell_type": "code",
   "execution_count": 63,
   "id": "4ebc61ab-b4a0-4d64-af2a-59052cea8b97",
   "metadata": {
    "tags": []
   },
   "outputs": [],
   "source": [
    "weight_kg = 60"
   ]
  },
  {
   "cell_type": "markdown",
   "id": "dd6b25ff-3ae1-44b3-ba0a-a933892fd3a7",
   "metadata": {},
   "source": [
    "* weight_kg is variable name\n",
    "* variable names are case sensitive, can include letters, digits and underscores\n",
    "* can't start with a digit\n",
    "\n",
    "* python has different data types\n",
    "* integers, floats, strings\n",
    "* automatically determined, 60 is an integer, 60.3 is a float"
   ]
  },
  {
   "cell_type": "code",
   "execution_count": 64,
   "id": "44b5d040-7e4e-4340-9511-6c93908559b5",
   "metadata": {
    "tags": []
   },
   "outputs": [],
   "source": [
    "weight_kg = 60.3"
   ]
  },
  {
   "cell_type": "markdown",
   "id": "3ba4e851-f94d-4237-8349-e33cbc48e059",
   "metadata": {},
   "source": [
    "* strings are surrouneded by single or double quotes"
   ]
  },
  {
   "cell_type": "code",
   "execution_count": 65,
   "id": "be5f2e52-54e0-400f-99b8-7febe68a9cd6",
   "metadata": {
    "tags": []
   },
   "outputs": [],
   "source": [
    "patient_id = '001'"
   ]
  },
  {
   "cell_type": "markdown",
   "id": "4f37ebd2-89f4-436b-8b79-c37d1f422641",
   "metadata": {},
   "source": [
    "* we can store the results of calculations in a variable"
   ]
  },
  {
   "cell_type": "code",
   "execution_count": 66,
   "id": "abae2fb4-f5e7-460d-a4ed-e6b43645a255",
   "metadata": {
    "tags": []
   },
   "outputs": [],
   "source": [
    "weight_lb = 2.2 * weight_kg"
   ]
  },
  {
   "cell_type": "markdown",
   "id": "03832d8f-64f4-425d-8c42-ed4ee64d67b7",
   "metadata": {},
   "source": [
    "* we can add a prefix to our patient id, this joins two strings together"
   ]
  },
  {
   "cell_type": "code",
   "execution_count": 67,
   "id": "e348fac1-b88d-44aa-846c-16aa9e4efcd9",
   "metadata": {
    "tags": []
   },
   "outputs": [],
   "source": [
    "patient_id = 'inflam_' + patient_id"
   ]
  },
  {
   "cell_type": "markdown",
   "id": "d999bd34-6a9a-4c3e-8060-db45c538bad0",
   "metadata": {},
   "source": [
    "* functions do something with some data\n",
    "* lots of built in functions like print\n",
    "* brackets around parameters to the function"
   ]
  },
  {
   "cell_type": "code",
   "execution_count": 68,
   "id": "3fb4f87d-1bd3-4e39-816f-5392ef1ec3a2",
   "metadata": {
    "tags": []
   },
   "outputs": [
    {
     "name": "stdout",
     "output_type": "stream",
     "text": [
      "132.66\n"
     ]
    }
   ],
   "source": [
    "print(weight_lb)"
   ]
  },
  {
   "cell_type": "code",
   "execution_count": 69,
   "id": "0a7e2bd5-675f-4b61-b625-dfd25fb1e366",
   "metadata": {
    "tags": []
   },
   "outputs": [
    {
     "name": "stdout",
     "output_type": "stream",
     "text": [
      "inflam_001\n"
     ]
    }
   ],
   "source": [
    "print(patient_id)"
   ]
  },
  {
   "cell_type": "markdown",
   "id": "631fd37b-c0e5-44bd-bf11-4693abcfaf69",
   "metadata": {},
   "source": [
    "* display multiple things in one call to print by using commas\n",
    "* automatically adds spaces"
   ]
  },
  {
   "cell_type": "code",
   "execution_count": 70,
   "id": "aafbf1d0-854e-4b4e-8b11-43a8f1783f94",
   "metadata": {
    "tags": []
   },
   "outputs": [
    {
     "name": "stdout",
     "output_type": "stream",
     "text": [
      "inflam_001 weight in kilos: 60.3\n"
     ]
    }
   ],
   "source": [
    "print(patient_id, 'weight in kilos:', weight_kg)"
   ]
  },
  {
   "cell_type": "markdown",
   "id": "8508968d-6605-4397-ab04-d18a25bfac0a",
   "metadata": {},
   "source": [
    "* function calls can be nested\n",
    "* type function tells us what type a variable is"
   ]
  },
  {
   "cell_type": "code",
   "execution_count": 71,
   "id": "d8d6695f-d00b-4cd5-ac59-e54d514d8318",
   "metadata": {
    "tags": []
   },
   "outputs": [
    {
     "name": "stdout",
     "output_type": "stream",
     "text": [
      "<class 'float'>\n"
     ]
    }
   ],
   "source": [
    "print(type(60.3))"
   ]
  },
  {
   "cell_type": "code",
   "execution_count": 72,
   "id": "96efda46-7841-4d04-b014-24fbb5790238",
   "metadata": {
    "tags": []
   },
   "outputs": [
    {
     "name": "stdout",
     "output_type": "stream",
     "text": [
      "<class 'str'>\n"
     ]
    }
   ],
   "source": [
    "print(type(patient_id))"
   ]
  },
  {
   "cell_type": "markdown",
   "id": "e09a1265-7fc7-4e9d-ab89-dd40951466e3",
   "metadata": {},
   "source": [
    "* we can do arithmetic inside a function call"
   ]
  },
  {
   "cell_type": "code",
   "execution_count": 73,
   "id": "2aa19703-6738-4137-a4b0-671bd041def1",
   "metadata": {
    "tags": []
   },
   "outputs": [
    {
     "name": "stdout",
     "output_type": "stream",
     "text": [
      "weight in pounds: 132.66\n"
     ]
    }
   ],
   "source": [
    "print('weight in pounds:', 2.2 * weight_kg)"
   ]
  },
  {
   "cell_type": "code",
   "execution_count": 74,
   "id": "f1574745-a71e-41be-ae18-b63507f297ce",
   "metadata": {
    "tags": []
   },
   "outputs": [
    {
     "name": "stdout",
     "output_type": "stream",
     "text": [
      "60.3\n"
     ]
    }
   ],
   "source": [
    "print(weight_kg)"
   ]
  },
  {
   "cell_type": "markdown",
   "id": "63263610-2aa0-4c14-8bb1-c3a4a0411577",
   "metadata": {},
   "source": [
    "* we didn't change weight_kg\n",
    "* have to assign a new value with = "
   ]
  },
  {
   "cell_type": "code",
   "execution_count": 75,
   "id": "0d3e7453-6a74-476f-9466-47797c9d945e",
   "metadata": {
    "tags": []
   },
   "outputs": [
    {
     "name": "stdout",
     "output_type": "stream",
     "text": [
      "weight in kilos is now: 65.0\n"
     ]
    }
   ],
   "source": [
    "weight_kg = 65.0\n",
    "print('weight in kilos is now:', weight_kg)"
   ]
  },
  {
   "cell_type": "code",
   "execution_count": 76,
   "id": "d6417a3d-acd4-494e-876a-38d8edb77aec",
   "metadata": {
    "tags": []
   },
   "outputs": [
    {
     "name": "stdout",
     "output_type": "stream",
     "text": [
      "weight in kilos: 65.0 and in pounds: 143.0\n"
     ]
    }
   ],
   "source": [
    "weight_lb = 2.2 * weight_kg\n",
    "print('weight in kilos:', weight_kg, 'and in pounds:', weight_lb)"
   ]
  },
  {
   "cell_type": "code",
   "execution_count": 77,
   "id": "65ce53d7-a381-430d-836c-eca0c777b3a8",
   "metadata": {
    "tags": []
   },
   "outputs": [
    {
     "name": "stdout",
     "output_type": "stream",
     "text": [
      "weight in kilos is now: 100.0 and weight in pounds is still: 143.0\n"
     ]
    }
   ],
   "source": [
    "weight_kg = 100.0\n",
    "print('weight in kilos is now:', weight_kg, 'and weight in pounds is still:', weight_lb)"
   ]
  },
  {
   "cell_type": "markdown",
   "id": "5abddd43-d0c4-4d5a-8abd-7e277867ab79",
   "metadata": {
    "tags": []
   },
   "source": [
    "* think of variables like sticky notes\n",
    "* each has a name and value\n",
    "* changing one doesn't change others\n",
    "\n",
    "## Exercises"
   ]
  },
  {
   "cell_type": "code",
   "execution_count": 78,
   "id": "ee895e84-b1a4-4107-b7c2-d5e564e8e102",
   "metadata": {
    "tags": []
   },
   "outputs": [],
   "source": [
    "mass = 47.5\n",
    "age = 122\n",
    "mass = mass * 2.0\n",
    "age = age - 20\n",
    "\n"
   ]
  },
  {
   "cell_type": "code",
   "execution_count": 79,
   "id": "f72456ee-69ed-43a3-91b3-e308c0992708",
   "metadata": {
    "tags": []
   },
   "outputs": [
    {
     "name": "stdout",
     "output_type": "stream",
     "text": [
      "Hopper Grace\n"
     ]
    }
   ],
   "source": [
    "first, second = 'Grace', 'Hopper'\n",
    "third, fourth = second, first\n",
    "print(third, fourth)\n",
    "\n"
   ]
  },
  {
   "cell_type": "code",
   "execution_count": 80,
   "id": "ea6a3af2-7407-475e-a3a6-5f0638469517",
   "metadata": {
    "tags": []
   },
   "outputs": [],
   "source": [
    "planet = 'Earth'\n",
    "apples = 5\n",
    "distance = 10.5\n",
    "\n"
   ]
  },
  {
   "cell_type": "markdown",
   "id": "6ba19f33-c26e-45a6-bc73-cf7804dc9b66",
   "metadata": {},
   "source": [
    "## recap\n",
    "\n",
    "* Basic data types in Python include integers, strings, and floating-point numbers.\n",
    "* Use variable = value to assign a value to a variable in order to record it in memory.\n",
    "* Variables are created on demand whenever a value is assigned to them.\n",
    "* Use print(something) to display the value of something.\n",
    "* Built-in functions are always available to use.\n"
   ]
  },
  {
   "cell_type": "markdown",
   "id": "bbf900e8-8fdb-4057-9eb7-a51b5c8eddc5",
   "metadata": {},
   "source": [
    "# Analysing some wave-height data"
   ]
  },
  {
   "cell_type": "code",
   "execution_count": 81,
   "id": "79789e73-50ca-4538-85d0-03a0f8519cd4",
   "metadata": {
    "tags": []
   },
   "outputs": [],
   "source": [
    "import numpy"
   ]
  },
  {
   "cell_type": "markdown",
   "id": "5995a684-c288-4a15-9b24-1502c85a10e1",
   "metadata": {
    "tags": []
   },
   "source": [
    "* explain libraries, like taking equipment out of storage.\n",
    "* use import statement\n",
    "* libraryname.function name syntax"
   ]
  },
  {
   "cell_type": "code",
   "execution_count": 82,
   "id": "a542b703-60a2-4a35-909e-be111d6b61d4",
   "metadata": {
    "tags": []
   },
   "outputs": [
    {
     "data": {
      "text/plain": [
       "array([[1.979e+03, 1.000e+00, 3.788e+00],\n",
       "       [1.979e+03, 2.000e+00, 3.768e+00],\n",
       "       [1.979e+03, 3.000e+00, 4.774e+00],\n",
       "       ...,\n",
       "       [2.015e+03, 1.000e+01, 3.046e+00],\n",
       "       [2.015e+03, 1.100e+01, 4.622e+00],\n",
       "       [2.015e+03, 1.200e+01, 5.048e+00]])"
      ]
     },
     "execution_count": 82,
     "metadata": {},
     "output_type": "execute_result"
    }
   ],
   "source": [
    "numpy.loadtxt(fname='data/wavesmonthly.csv', delimiter=',', skiprows=1)\n"
   ]
  },
  {
   "cell_type": "markdown",
   "id": "d18b07b9-0a86-4f4b-b524-bef7e239101c",
   "metadata": {},
   "source": [
    "* data now loaded, only subset onscreen\n",
    "* explain parameters\n",
    "* skipped first row since it contains headers\n",
    "* we didn't save the data to a variable, correct that with variable assignment"
   ]
  },
  {
   "cell_type": "code",
   "execution_count": 83,
   "id": "d6d440d8-dbd1-4084-8bc1-bb1c1963cec0",
   "metadata": {
    "tags": []
   },
   "outputs": [],
   "source": [
    "data = numpy.loadtxt(fname='data/wavesmonthly.csv', delimiter=',', skiprows=1)"
   ]
  },
  {
   "cell_type": "code",
   "execution_count": 84,
   "id": "0899ad57-9c6e-49be-9c48-092471c4568a",
   "metadata": {
    "tags": []
   },
   "outputs": [
    {
     "name": "stdout",
     "output_type": "stream",
     "text": [
      "[[1.979e+03 1.000e+00 3.788e+00]\n",
      " [1.979e+03 2.000e+00 3.768e+00]\n",
      " [1.979e+03 3.000e+00 4.774e+00]\n",
      " ...\n",
      " [2.015e+03 1.000e+01 3.046e+00]\n",
      " [2.015e+03 1.100e+01 4.622e+00]\n",
      " [2.015e+03 1.200e+01 5.048e+00]]\n"
     ]
    }
   ],
   "source": [
    "print(data)"
   ]
  },
  {
   "cell_type": "code",
   "execution_count": 85,
   "id": "04351116-49b8-456c-8f7d-f732d7baf0d6",
   "metadata": {
    "tags": []
   },
   "outputs": [
    {
     "name": "stdout",
     "output_type": "stream",
     "text": [
      "<class 'numpy.ndarray'>\n"
     ]
    }
   ],
   "source": [
    "print(type(data))"
   ]
  },
  {
   "cell_type": "markdown",
   "id": "b84c74d7-4552-4aea-a73b-211baa0d1e88",
   "metadata": {},
   "source": [
    "* numpy arrays can contain multiple data types\n",
    "* the type function tells us the type of a variable\n",
    "* dtype tells us the type numpy is using within an array\n"
   ]
  },
  {
   "cell_type": "code",
   "execution_count": 86,
   "id": "cb5bd0e7-441c-4525-b454-b05a0d395cfd",
   "metadata": {
    "tags": []
   },
   "outputs": [
    {
     "name": "stdout",
     "output_type": "stream",
     "text": [
      "float64\n"
     ]
    }
   ],
   "source": [
    "print(data.dtype)"
   ]
  },
  {
   "cell_type": "markdown",
   "id": "70b45941-e2cc-4187-9a19-7c9ac6549d7b",
   "metadata": {},
   "source": [
    "* find out the array's shape"
   ]
  },
  {
   "cell_type": "code",
   "execution_count": 87,
   "id": "4dd20eb8-ecf2-44b4-a299-865a7550c969",
   "metadata": {
    "tags": []
   },
   "outputs": [
    {
     "name": "stdout",
     "output_type": "stream",
     "text": [
      "(444, 3)\n"
     ]
    }
   ],
   "source": [
    "print(data.shape)"
   ]
  },
  {
   "cell_type": "markdown",
   "id": "3c66b9f5-061a-4146-94c1-819d39ef6173",
   "metadata": {},
   "source": [
    "* that's 444 rows, 3 columns\n",
    "* 37 years x 12 months = 444\n",
    "* 3 columns are year, month, waveheight\n",
    "* get data from an array with [x,y]"
   ]
  },
  {
   "cell_type": "code",
   "execution_count": 88,
   "id": "b2d86dab-1f58-49d3-9593-0edd61400c4c",
   "metadata": {
    "tags": []
   },
   "outputs": [
    {
     "name": "stdout",
     "output_type": "stream",
     "text": [
      "first value in data: 3.788\n"
     ]
    }
   ],
   "source": [
    "print('first value in data:', data[0, 2])"
   ]
  },
  {
   "cell_type": "code",
   "execution_count": 89,
   "id": "59d62e00-307c-4317-8ab4-446e1c6ff5d9",
   "metadata": {
    "tags": []
   },
   "outputs": [
    {
     "name": "stdout",
     "output_type": "stream",
     "text": [
      "middle value in data: 2.446\n"
     ]
    }
   ],
   "source": [
    "print(\"middle value in data:\", data[222, 2])"
   ]
  },
  {
   "cell_type": "markdown",
   "id": "9429d6d7-a506-49c1-b766-a20b0479de3e",
   "metadata": {},
   "source": [
    "* show diagram in notes about arrays\n",
    "* arrays are zero based indexing\n",
    "* 0,0 is top left corner, matrix notation not cartesian"
   ]
  },
  {
   "cell_type": "markdown",
   "id": "35f10ab5-8ab0-4fdb-9cc6-422eeebe84e8",
   "metadata": {},
   "source": [
    "## slicing data\n",
    "* can select multiple items in an array with a :"
   ]
  },
  {
   "cell_type": "code",
   "execution_count": 90,
   "id": "b158096c-3ffa-4a73-9b6d-09978ef4692f",
   "metadata": {
    "tags": []
   },
   "outputs": [
    {
     "name": "stdout",
     "output_type": "stream",
     "text": [
      "[[1.979e+03 1.000e+00 3.788e+00]\n",
      " [1.979e+03 2.000e+00 3.768e+00]\n",
      " [1.979e+03 3.000e+00 4.774e+00]\n",
      " [1.979e+03 4.000e+00 2.818e+00]\n",
      " [1.979e+03 5.000e+00 2.734e+00]\n",
      " [1.979e+03 6.000e+00 2.086e+00]\n",
      " [1.979e+03 7.000e+00 2.066e+00]\n",
      " [1.979e+03 8.000e+00 2.236e+00]\n",
      " [1.979e+03 9.000e+00 3.322e+00]\n",
      " [1.979e+03 1.000e+01 3.512e+00]\n",
      " [1.979e+03 1.100e+01 4.348e+00]\n",
      " [1.979e+03 1.200e+01 4.628e+00]]\n"
     ]
    }
   ],
   "source": [
    "print(data[0:12, 0:3])"
   ]
  },
  {
   "cell_type": "markdown",
   "id": "a73ca773-8db0-4a36-bcaf-bf2c20694d5c",
   "metadata": {},
   "source": [
    "* 0:12 means from zero to 11\n",
    "* takes some getting used to, I get it wrong all the time\n",
    "* slices can start from non-zero positions"
   ]
  },
  {
   "cell_type": "code",
   "execution_count": 91,
   "id": "191c9e37-32ff-4956-8f56-492c795b7463",
   "metadata": {
    "tags": []
   },
   "outputs": [
    {
     "name": "stdout",
     "output_type": "stream",
     "text": [
      "[[ 1.     3.666]\n",
      " [ 2.     4.326]\n",
      " [ 3.     3.522]\n",
      " [ 4.     3.18 ]\n",
      " [ 5.     1.954]\n",
      " [ 6.     1.72 ]\n",
      " [ 7.     1.86 ]\n",
      " [ 8.     1.95 ]\n",
      " [ 9.     3.11 ]\n",
      " [10.     3.78 ]\n",
      " [11.     3.474]\n",
      " [12.     5.28 ]]\n"
     ]
    }
   ],
   "source": [
    "print(data[12:24, 1:3])"
   ]
  },
  {
   "cell_type": "markdown",
   "id": "d4d1353a-31eb-4c24-9e33-05a95f760b06",
   "metadata": {},
   "source": [
    "* we can miss out the start or end if we want everything up to or everything after an item"
   ]
  },
  {
   "cell_type": "code",
   "execution_count": 92,
   "id": "734ab52c-8164-4a3e-8a3a-8395d57981cb",
   "metadata": {
    "tags": []
   },
   "outputs": [
    {
     "name": "stdout",
     "output_type": "stream",
     "text": [
      "data from first year is:\n",
      "[[3.788]\n",
      " [3.768]\n",
      " [4.774]\n",
      " [2.818]\n",
      " [2.734]\n",
      " [2.086]\n",
      " [2.066]\n",
      " [2.236]\n",
      " [3.322]\n",
      " [3.512]\n",
      " [4.348]\n",
      " [4.628]]\n"
     ]
    }
   ],
   "source": [
    "first_year = data[:12, 2:]\n",
    "print('data from first year is:')\n",
    "print(first_year)\n"
   ]
  },
  {
   "cell_type": "markdown",
   "id": "060ec5df-2f14-4a86-9393-bbadada89cf7",
   "metadata": {},
   "source": [
    "* numpy has functions which can operate on whole arrays\n",
    "* mean is one of these"
   ]
  },
  {
   "cell_type": "code",
   "execution_count": 93,
   "id": "6dbf94ba-6e43-494e-96c2-c94b13c35fcf",
   "metadata": {
    "tags": []
   },
   "outputs": [
    {
     "name": "stdout",
     "output_type": "stream",
     "text": [
      "668.9611876876877\n"
     ]
    }
   ],
   "source": [
    "print(numpy.mean(data))"
   ]
  },
  {
   "cell_type": "markdown",
   "id": "cf5a9912-65c3-41ff-881f-3eb4cc4e3036",
   "metadata": {},
   "source": [
    "* mean takes an argument (data)\n",
    "* we can also slice data to just get the mean of a subset of the data"
   ]
  },
  {
   "cell_type": "code",
   "execution_count": 94,
   "id": "5a2cd664-702d-4f32-93aa-640eccb88f28",
   "metadata": {
    "tags": []
   },
   "outputs": [
    {
     "name": "stdout",
     "output_type": "stream",
     "text": [
      "3.383563063063063\n"
     ]
    }
   ],
   "source": [
    "print(numpy.mean(data[:,2]))"
   ]
  },
  {
   "cell_type": "markdown",
   "id": "90ea7022-334a-4249-88f9-420c0bfe7609",
   "metadata": {},
   "source": [
    "* Not all functions take an argument"
   ]
  },
  {
   "cell_type": "code",
   "execution_count": 95,
   "id": "9f114b37-6c00-40d3-9e2d-56b0dca05252",
   "metadata": {
    "tags": []
   },
   "outputs": [
    {
     "name": "stdout",
     "output_type": "stream",
     "text": [
      "Wed May 17 14:05:18 2023\n"
     ]
    }
   ],
   "source": [
    "import time\n",
    "print(time.ctime())\n",
    "\n"
   ]
  },
  {
   "cell_type": "markdown",
   "id": "e3e1c525-e88f-4157-aecd-776cc74746b6",
   "metadata": {},
   "source": [
    "* ctime from the time library needs no arguments, still need the brackets\n",
    "* lets combine multiple assignment, numpy's min/max/std functions and slicing"
   ]
  },
  {
   "cell_type": "code",
   "execution_count": 96,
   "id": "1455f962-35e0-4c76-90ad-34aeabadcd2b",
   "metadata": {
    "tags": []
   },
   "outputs": [
    {
     "name": "stdout",
     "output_type": "stream",
     "text": [
      "Max wave height: 6.956\n",
      "Min wave height: 1.496\n",
      "Wave height standard deviation: 1.1440155050316319\n"
     ]
    }
   ],
   "source": [
    "maxval, minval, stdval = numpy.max(data[:,2]), numpy.min(data[:,2]), numpy.std(data[:,2])\n",
    "\n",
    "print('Max wave height:', maxval)\n",
    "print('Min wave height:', minval)\n",
    "print('Wave height standard deviation:', stdval)"
   ]
  },
  {
   "cell_type": "markdown",
   "id": "d0e7f7cc-7df1-4869-ac28-0aac581d2720",
   "metadata": {},
   "source": [
    "* don't use variable names with the same name as functions (e.g. min/max)\n",
    "* mystery functions"
   ]
  },
  {
   "attachments": {},
   "cell_type": "markdown",
   "id": "766e6b08",
   "metadata": {},
   "source": []
  },
  {
   "attachments": {},
   "cell_type": "markdown",
   "id": "547f8bc7",
   "metadata": {},
   "source": [
    "** Potential issue **\n",
    "\n",
    "The what about NaNs section creates a new data variable, which overwrites the one we previously had.\n",
    "\n",
    "To avoid running into problems when doing the reshaping that comes next, what about modifying the name of the 'data' var defined here."
   ]
  },
  {
   "cell_type": "code",
   "execution_count": 97,
   "id": "a0378061",
   "metadata": {},
   "outputs": [
    {
     "data": {
      "text/plain": [
       "nan"
      ]
     },
     "execution_count": 97,
     "metadata": {},
     "output_type": "execute_result"
    }
   ],
   "source": [
    "data_nan = numpy.array([[1,2,3], [1, numpy.NaN, 3], [1, 2, 3]])\n",
    "numpy.mean(data_nan)"
   ]
  },
  {
   "cell_type": "code",
   "execution_count": 98,
   "id": "fda57208",
   "metadata": {},
   "outputs": [
    {
     "data": {
      "text/plain": [
       "2.0"
      ]
     },
     "execution_count": 98,
     "metadata": {},
     "output_type": "execute_result"
    }
   ],
   "source": [
    "data_nan = numpy.array([[1,2,3],[1,numpy.NaN,3],[1,2,3]])\n",
    "numpy.nanmean(data_nan)"
   ]
  },
  {
   "cell_type": "code",
   "execution_count": 99,
   "id": "0583a5fb",
   "metadata": {},
   "outputs": [
    {
     "data": {
      "text/plain": [
       "(3, 3)"
      ]
     },
     "execution_count": 99,
     "metadata": {},
     "output_type": "execute_result"
    }
   ],
   "source": [
    "data_nan.shape"
   ]
  },
  {
   "cell_type": "code",
   "execution_count": 100,
   "id": "69659b8e",
   "metadata": {},
   "outputs": [],
   "source": [
    "reshaped_data = numpy.reshape(data[:,2], [37,12])"
   ]
  },
  {
   "cell_type": "code",
   "execution_count": 102,
   "id": "a1855ffd",
   "metadata": {},
   "outputs": [
    {
     "name": "stdout",
     "output_type": "stream",
     "text": [
      "The shape of the reshaped data is:\n",
      "(37, 12)\n"
     ]
    }
   ],
   "source": [
    "print(\"The shape of the reshaped data is:\")\n",
    "print(reshaped_data.shape)"
   ]
  },
  {
   "cell_type": "code",
   "execution_count": 104,
   "id": "1d8f18f2",
   "metadata": {},
   "outputs": [
    {
     "name": "stdout",
     "output_type": "stream",
     "text": [
      "The maximum value of the reshaped data is: 6.956\n",
      "The min value of the reshaped data is: 1.496\n",
      "The std dev of the reshaped data is: 1.1440155050316319\n"
     ]
    }
   ],
   "source": [
    "print(f\"The maximum value of the reshaped data is: {numpy.max(reshaped_data)}\")\n",
    "print(f\"The min value of the reshaped data is: {numpy.min(reshaped_data)}\")\n",
    "print(f\"The std dev of the reshaped data is: {numpy.std(reshaped_data)}\")"
   ]
  },
  {
   "attachments": {},
   "cell_type": "markdown",
   "id": "14aa57b8",
   "metadata": {},
   "source": [
    "**ISSUE**\n",
    "After the line \"We can verify that nothing about the data has changed:\"\n",
    "\n",
    "the name of the variable should be reshaped_data and not reshaped"
   ]
  },
  {
   "attachments": {},
   "cell_type": "markdown",
   "id": "5ff7c01e",
   "metadata": {},
   "source": [
    "### Printing text"
   ]
  },
  {
   "cell_type": "code",
   "execution_count": 107,
   "id": "3ab29367",
   "metadata": {},
   "outputs": [
    {
     "name": "stdout",
     "output_type": "stream",
     "text": [
      "Hello, My name is Chris and I live in Edinburgh.\n"
     ]
    }
   ],
   "source": [
    "name = 'Chris'\n",
    "city = 'Edinburgh'\n",
    "print(f\"Hello, My name is {name} and I live in {city}.\")"
   ]
  },
  {
   "cell_type": "code",
   "execution_count": 108,
   "id": "8b14d2b5",
   "metadata": {},
   "outputs": [
    {
     "name": "stdout",
     "output_type": "stream",
     "text": [
      "maximum wave height for year 0: 4.774\n"
     ]
    }
   ],
   "source": [
    "year_0 = reshaped_data[0,:] # 0 on the first axis (rows), everything on the second (columns)\n",
    "print(f\"maximum wave height for year 0: {numpy.max(year_0)}\")"
   ]
  },
  {
   "cell_type": "code",
   "execution_count": 109,
   "id": "9866f832",
   "metadata": {},
   "outputs": [
    {
     "name": "stdout",
     "output_type": "stream",
     "text": [
      "[4.59956757 4.39708108 4.09156757 3.26016216 2.60437838 2.3072973\n",
      " 2.18940541 2.32145946 2.9907027  3.55627027 3.90345946 4.38140541]\n"
     ]
    }
   ],
   "source": [
    "print(numpy.mean(reshaped_data, axis=0))"
   ]
  },
  {
   "cell_type": "code",
   "execution_count": 110,
   "id": "052ba48b",
   "metadata": {},
   "outputs": [
    {
     "name": "stdout",
     "output_type": "stream",
     "text": [
      "(12,)\n"
     ]
    }
   ],
   "source": [
    "print(numpy.mean(reshaped_data, axis=0).shape)"
   ]
  },
  {
   "attachments": {},
   "cell_type": "markdown",
   "id": "ba3e6ba9",
   "metadata": {},
   "source": [
    "**Potential issue**\n",
    "\n",
    "Technically we don't have a Nx1 vector. A vector is a Nx1 matrix by definition, but what we have here is a 1D array. (12,) is different from (12,1) becasue the former is 1D and the latter is 2D. This is very important when you are doing matrix multiplications because the (12,) version is misleading and often leads to errors. Not sure if we just ignore this for now?"
   ]
  },
  {
   "cell_type": "code",
   "execution_count": 111,
   "id": "9065e0db",
   "metadata": {},
   "outputs": [
    {
     "name": "stdout",
     "output_type": "stream",
     "text": [
      "[3.34       3.15183333 3.29866667 3.53366667 3.448      3.23016667\n",
      " 2.99383333 3.51133333 2.96066667 3.20316667 3.62116667 5.1915\n",
      " 3.28816667 3.529      3.523      3.66866667 3.314      2.99916667\n",
      " 3.45983333 3.16783333 3.413      3.3435     3.031      3.29366667\n",
      " 3.138      3.29716667 3.3185     3.24966667 3.4135     3.42866667\n",
      " 3.168      2.78816667 3.61366667 3.2725     3.32766667 3.2765\n",
      " 4.385     ]\n"
     ]
    }
   ],
   "source": [
    "print(numpy.mean(reshaped_data, axis=1))"
   ]
  },
  {
   "attachments": {},
   "cell_type": "markdown",
   "id": "67582729",
   "metadata": {},
   "source": [
    "# Slicing Strings"
   ]
  },
  {
   "cell_type": "code",
   "execution_count": 112,
   "id": "c2b8d80f",
   "metadata": {},
   "outputs": [
    {
     "name": "stdout",
     "output_type": "stream",
     "text": [
      "first three characters: oxy\n",
      "last three characters: gen\n"
     ]
    }
   ],
   "source": [
    "element = 'oxygen'\n",
    "print('first three characters:', element[0:3])\n",
    "print('last three characters:', element[3:6])"
   ]
  },
  {
   "cell_type": "code",
   "execution_count": 114,
   "id": "3dc2fa00",
   "metadata": {},
   "outputs": [
    {
     "name": "stdout",
     "output_type": "stream",
     "text": [
      "last three characters: gen\n",
      "last three characters: try\n",
      "last three characters: one\n",
      "last three characters: hi\n"
     ]
    }
   ],
   "source": [
    "element = 'oxygen'\n",
    "print('last three characters:', element[-3:])\n",
    "element = 'carpentry'\n",
    "print('last three characters:', element[-3:])\n",
    "element = 'clone'\n",
    "print('last three characters:', element[-3:])\n",
    "element = 'hi'\n",
    "print('last three characters:', element[-3:])"
   ]
  },
  {
   "cell_type": "code",
   "execution_count": 120,
   "id": "d4ae80c8",
   "metadata": {},
   "outputs": [
    {
     "data": {
      "text/plain": [
       "(37, 12)"
      ]
     },
     "execution_count": 120,
     "metadata": {},
     "output_type": "execute_result"
    }
   ],
   "source": [
    "data[3:3, 4:4]\n",
    "\n",
    "reshaped_data.shape"
   ]
  },
  {
   "cell_type": "code",
   "execution_count": 118,
   "id": "b384ad4e",
   "metadata": {},
   "outputs": [
    {
     "data": {
      "text/plain": [
       "(444, 3)"
      ]
     },
     "execution_count": 118,
     "metadata": {},
     "output_type": "execute_result"
    }
   ],
   "source": [
    "data.shape"
   ]
  },
  {
   "attachments": {},
   "cell_type": "markdown",
   "id": "97be9744",
   "metadata": {},
   "source": [
    "### Stacking arrays"
   ]
  },
  {
   "cell_type": "code",
   "execution_count": 121,
   "id": "64ee714a",
   "metadata": {},
   "outputs": [
    {
     "name": "stdout",
     "output_type": "stream",
     "text": [
      "A = \n",
      "[[1 2 3]\n",
      " [4 5 6]\n",
      " [7 8 9]]\n",
      "B = \n",
      "[[1 2 3 1 2 3]\n",
      " [4 5 6 4 5 6]\n",
      " [7 8 9 7 8 9]]\n",
      "C = \n",
      "[[1 2 3]\n",
      " [4 5 6]\n",
      " [7 8 9]\n",
      " [1 2 3]\n",
      " [4 5 6]\n",
      " [7 8 9]]\n"
     ]
    }
   ],
   "source": [
    "A = numpy.array([[1,2,3], [4,5,6], [7, 8, 9]])\n",
    "print('A = ') \n",
    "print(A)  \n",
    "B = numpy.hstack([A, A]) \n",
    "print('B = ') \n",
    "print(B)  \n",
    "C = numpy.vstack([A, A]) \n",
    "print('C = ') \n",
    "print(C)"
   ]
  },
  {
   "cell_type": "code",
   "execution_count": 122,
   "id": "ba7b4fa4",
   "metadata": {},
   "outputs": [
    {
     "name": "stdout",
     "output_type": "stream",
     "text": [
      "D = \n",
      "[[1 3]\n",
      " [4 6]\n",
      " [7 9]]\n"
     ]
    }
   ],
   "source": [
    "D = numpy.hstack((A[:, :1], A[:, -1:]))\n",
    "print('D = ')\n",
    "print(D)"
   ]
  },
  {
   "cell_type": "code",
   "execution_count": 128,
   "id": "a5e8f75a",
   "metadata": {},
   "outputs": [
    {
     "name": "stdout",
     "output_type": "stream",
     "text": [
      "D = \n",
      "[[1 3]\n",
      " [4 6]\n",
      " [7 9]]\n"
     ]
    }
   ],
   "source": [
    "D = numpy.delete(A, 1, 1)\n",
    "print('D = ')\n",
    "print(D) "
   ]
  },
  {
   "attachments": {},
   "cell_type": "markdown",
   "id": "3f6ad05b",
   "metadata": {},
   "source": [
    "### Change In Wave Height"
   ]
  },
  {
   "cell_type": "code",
   "execution_count": 136,
   "id": "0557756b",
   "metadata": {},
   "outputs": [
    {
     "name": "stdout",
     "output_type": "stream",
     "text": [
      "[3.73  4.886 4.76  3.188 2.528 1.662 1.952 2.388 3.336 4.034 4.502 5.438]\n"
     ]
    }
   ],
   "source": [
    "year4 = reshaped_data[3, :]\n",
    "print(year4)\n"
   ]
  },
  {
   "cell_type": "code",
   "execution_count": 137,
   "id": "534353a0",
   "metadata": {},
   "outputs": [
    {
     "data": {
      "text/plain": [
       "array([ 1.156, -0.126, -1.572, -0.66 , -0.866,  0.29 ,  0.436,  0.948,\n",
       "        0.698,  0.468,  0.936])"
      ]
     },
     "execution_count": 137,
     "metadata": {},
     "output_type": "execute_result"
    }
   ],
   "source": [
    "numpy.diff(year4)"
   ]
  },
  {
   "cell_type": "code",
   "execution_count": 138,
   "id": "552e0510",
   "metadata": {},
   "outputs": [
    {
     "data": {
      "text/plain": [
       "array([1.086, 1.806, 1.776, 1.156, 1.692, 1.274, 0.798, 2.59 , 1.338,\n",
       "       1.634, 0.992, 0.618, 1.054, 1.652, 1.472, 1.716, 0.766, 1.496,\n",
       "       1.656, 1.04 , 1.228, 1.336, 1.564, 1.066, 1.242, 1.604, 0.802,\n",
       "       1.04 , 0.652, 0.86 , 1.176, 0.97 , 1.68 , 1.556, 1.904, 2.936,\n",
       "       1.578])"
      ]
     },
     "execution_count": 138,
     "metadata": {},
     "output_type": "execute_result"
    }
   ],
   "source": [
    "numpy.max(numpy.diff(reshaped_data, axis=1), axis=1)"
   ]
  },
  {
   "cell_type": "code",
   "execution_count": 139,
   "id": "44e552bc",
   "metadata": {},
   "outputs": [
    {
     "data": {
      "text/plain": [
       "array([1.956, 1.806, 1.776, 1.572, 3.6  , 2.418, 0.954, 2.798, 1.338,\n",
       "       1.634, 2.13 , 0.93 , 1.054, 1.71 , 1.68 , 2.   , 1.614, 1.496,\n",
       "       2.308, 1.04 , 2.014, 1.68 , 1.564, 1.596, 1.528, 1.604, 1.468,\n",
       "       1.21 , 1.012, 0.86 , 1.732, 1.03 , 1.68 , 1.774, 1.904, 2.936,\n",
       "       1.694])"
      ]
     },
     "execution_count": 139,
     "metadata": {},
     "output_type": "execute_result"
    }
   ],
   "source": [
    "numpy.max(numpy.absolute(numpy.diff(reshaped_data, axis=1)), axis=1)"
   ]
  },
  {
   "cell_type": "code",
   "execution_count": 141,
   "id": "00f9e357",
   "metadata": {},
   "outputs": [
    {
     "data": {
      "text/plain": [
       "(37, 11)"
      ]
     },
     "execution_count": 141,
     "metadata": {},
     "output_type": "execute_result"
    }
   ],
   "source": []
  },
  {
   "cell_type": "code",
   "execution_count": null,
   "id": "2bffb52b",
   "metadata": {},
   "outputs": [],
   "source": []
  }
 ],
 "metadata": {
  "kernelspec": {
   "display_name": "Python 3 (ipykernel)",
   "language": "python",
   "name": "python3"
  },
  "language_info": {
   "codemirror_mode": {
    "name": "ipython",
    "version": 3
   },
   "file_extension": ".py",
   "mimetype": "text/x-python",
   "name": "python",
   "nbconvert_exporter": "python",
   "pygments_lexer": "ipython3",
   "version": "3.11.0"
  }
 },
 "nbformat": 4,
 "nbformat_minor": 5
}
