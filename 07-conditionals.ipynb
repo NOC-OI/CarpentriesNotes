{
 "cells": [
  {
   "cell_type": "markdown",
   "id": "50609b0f-257e-4b0a-aade-9b113827f39d",
   "metadata": {},
   "source": [
    "In this episode, we are going to learn how to use conditionals in Python.\n",
    "\n",
    "Conditional statements are ubiquitous in virtually every programming language, and they are use to make programs do different things based on data values.\n",
    "\n",
    "So for example, since in our previous lessons, we examined the seasonal behaviour of sea waves. The question now is how can we use this data to make practical decisions? How can we use Python to identify thresholds, and take a different action for each? \n",
    "\n",
    "The answer is to write conditional statements including if, elif, and else branches.\n",
    "\n",
    "\n",
    "So let's see how this work in practice."
   ]
  },
  {
   "cell_type": "markdown",
   "id": "1379b6d1-06bb-4587-a8b5-b3e4351bfd32",
   "metadata": {},
   "source": [
    "We can ask Python to take different actions, depending on a condition, with an if statement:"
   ]
  },
  {
   "cell_type": "code",
   "execution_count": 6,
   "id": "b2debe42-66b2-4b54-b102-c0ea0321ea28",
   "metadata": {},
   "outputs": [
    {
     "name": "stdout",
     "output_type": "stream",
     "text": [
      "not greater\n",
      "done\n"
     ]
    }
   ],
   "source": [
    "num = 37\n",
    "if num > 100:\n",
    "    print('greater')\n",
    "else:\n",
    "    print('not greater')\n",
    "print('done')"
   ]
  },
  {
   "cell_type": "markdown",
   "id": "25bc053d-3cf8-4065-84db-e4f92d83d211",
   "metadata": {},
   "source": [
    "Conditional statements don’t have to include an else. "
   ]
  },
  {
   "cell_type": "code",
   "execution_count": 7,
   "id": "b8b8b836-2522-46f1-89b1-b2460c4ebfd1",
   "metadata": {},
   "outputs": [
    {
     "name": "stdout",
     "output_type": "stream",
     "text": [
      "before conditional...\n",
      "...after conditional\n"
     ]
    }
   ],
   "source": [
    "num = 53\n",
    "print('before conditional...')\n",
    "if num > 100:\n",
    "    print(num, 'is greater than 100')\n",
    "print('...after conditional')"
   ]
  },
  {
   "cell_type": "markdown",
   "id": "1925cd05-ff22-464b-ac13-e6ca0e68681a",
   "metadata": {},
   "source": [
    "We can also chain several tests together using elif, which is short for “else if”."
   ]
  },
  {
   "cell_type": "code",
   "execution_count": 8,
   "id": "86989334-5048-4848-ac3c-bfe12ab0b72c",
   "metadata": {},
   "outputs": [
    {
     "name": "stdout",
     "output_type": "stream",
     "text": [
      "-3 is negative\n"
     ]
    }
   ],
   "source": [
    "num = -3\n",
    "\n",
    "if num > 0:\n",
    "    print(num, 'is positive')\n",
    "elif num == 0:\n",
    "    print(num, 'is zero')\n",
    "else:\n",
    "    print(num, 'is negative')"
   ]
  },
  {
   "cell_type": "markdown",
   "id": "f413ec45-6908-48ca-9b98-ee3d8c602512",
   "metadata": {},
   "source": [
    "We can also combine tests using and and or. and is only true if both parts are true:"
   ]
  },
  {
   "cell_type": "code",
   "execution_count": 9,
   "id": "3bcce379-a4b2-4428-8410-f4dfddbca981",
   "metadata": {},
   "outputs": [
    {
     "name": "stdout",
     "output_type": "stream",
     "text": [
      "at least one part is false\n"
     ]
    }
   ],
   "source": [
    "if (1 > 0) and (-1 >= 0):\n",
    "    print('both parts are true')\n",
    "else:\n",
    "    print('at least one part is false')"
   ]
  },
  {
   "cell_type": "code",
   "execution_count": 11,
   "id": "fed99bd1-4afc-4c0f-ab54-7f4b83afd499",
   "metadata": {},
   "outputs": [
    {
     "name": "stdout",
     "output_type": "stream",
     "text": [
      "at least one test is true\n"
     ]
    }
   ],
   "source": [
    "if (1 < 0) or (1 >= 0):\n",
    "    print('at least one test is true')"
   ]
  },
  {
   "cell_type": "markdown",
   "id": "c5e7bb6e-9d95-4c78-9a28-45c907324875",
   "metadata": {},
   "source": [
    "Side note: True and False are special words in Python called booleans, which represent truth values. "
   ]
  },
  {
   "cell_type": "markdown",
   "id": "71a38803-5a8a-495e-83e8-4474b314da70",
   "metadata": {},
   "source": [
    "# Checking our Data\n",
    "\n",
    "Now that we’ve seen how conditionals work, we can use them to look for thresholds in our wave data"
   ]
  },
  {
   "cell_type": "code",
   "execution_count": 15,
   "id": "3b294b57-c597-4e02-8f79-f3e3e7f5d0ea",
   "metadata": {},
   "outputs": [],
   "source": [
    "import numpy\n",
    "data = numpy.loadtxt(fname='data/wavesmonthly.csv', delimiter=',', skiprows=1)\n",
    "reshaped_data = numpy.reshape(data[:,2], [37,12])"
   ]
  },
  {
   "cell_type": "code",
   "execution_count": 17,
   "id": "7cc0b62f-e693-4bef-956e-3326dcc4e0e5",
   "metadata": {},
   "outputs": [
    {
     "name": "stdout",
     "output_type": "stream",
     "text": [
      "Can't take any boats out to sea\n"
     ]
    }
   ],
   "source": [
    "month0 = numpy.mean(reshaped_data, axis=0)[0]\n",
    "\n",
    "if month0 < 3:\n",
    "    print('Can take passengers this month')\n",
    "elif month0 < 4:\n",
    "    print('Can take survey vehicles (but not passengers)')\n",
    "else:\n",
    "    print(\"Can't take any boats out to sea\")"
   ]
  },
  {
   "cell_type": "code",
   "execution_count": 19,
   "id": "67619c41-a1a5-49aa-9231-fd196d9f23fe",
   "metadata": {},
   "outputs": [
    {
     "name": "stdout",
     "output_type": "stream",
     "text": [
      "Can take passengers this month\n"
     ]
    }
   ],
   "source": [
    "month5 = numpy.mean(reshaped_data, axis=0)[5]\n",
    "\n",
    "if month5 < 3:\n",
    "    print(\"Can take passengers this month\")\n",
    "elif month5 < 4:\n",
    "    print(\"Can take survey vehicles (but not passengers)\")\n",
    "else:\n",
    "    print(\"Can't take any boats out to sea\")"
   ]
  },
  {
   "cell_type": "markdown",
   "id": "5e184a57-8812-4660-97c7-4901bfbd0128",
   "metadata": {},
   "source": [
    "The enumerate() function in Python allows you to iterate over a sequence while simultaneously keeping track of the index and value of each element.\n",
    "\n",
    "We have access to the index as the first loop variable, and the value of each elements as the second loop variable"
   ]
  },
  {
   "cell_type": "code",
   "execution_count": 20,
   "id": "da2b6a86-de1b-4fdf-9ba9-b9318e76d3a9",
   "metadata": {},
   "outputs": [
    {
     "name": "stdout",
     "output_type": "stream",
     "text": [
      "Month 0: we can't take any boats out to sea this month\n",
      "Month 1: we can't take any boats out to sea this month\n",
      "Month 2: we can't take any boats out to sea this month\n",
      "Month 3: we can take survey vehicles (but not passengers) this month\n",
      "Month 4: we can take passengers this month\n",
      "Month 5: we can take passengers this month\n",
      "Month 6: we can take passengers this month\n",
      "Month 7: we can take passengers this month\n",
      "Month 8: we can take passengers this month\n",
      "Month 9: we can take survey vehicles (but not passengers) this month\n",
      "Month 10: we can take survey vehicles (but not passengers) this month\n",
      "Month 11: we can't take any boats out to sea this month\n"
     ]
    }
   ],
   "source": [
    "for month_index, monthly_waveheight in enumerate(numpy.mean(reshaped_data, axis=0)):\n",
    "    if monthly_waveheight < 3:\n",
    "        print(f\"Month {month_index}: we can take passengers this month\")\n",
    "    elif monthly_waveheight < 4:\n",
    "        print(f\"Month {month_index}: we can take survey vehicles (but not passengers) this month\")\n",
    "    else:\n",
    "        print(f\"Month {month_index}: we can't take any boats out to sea this month\")\n"
   ]
  },
  {
   "cell_type": "code",
   "execution_count": 21,
   "id": "d43f3dfb-362d-4b38-a963-41628f3fc3db",
   "metadata": {},
   "outputs": [
    {
     "name": "stdout",
     "output_type": "stream",
     "text": [
      "C\n"
     ]
    }
   ],
   "source": [
    "if 4 > 5:\n",
    "    print('A')\n",
    "elif 4 == 5:\n",
    "    print('B')\n",
    "elif 4 < 5:\n",
    "    print('C')"
   ]
  },
  {
   "cell_type": "code",
   "execution_count": 22,
   "id": "7040950c-f0ab-495d-88cd-d3b8d4b6cd57",
   "metadata": {},
   "outputs": [
    {
     "name": "stdout",
     "output_type": "stream",
     "text": [
      "word is true\n",
      "non-empty list is true\n",
      "one is true\n"
     ]
    }
   ],
   "source": [
    "if '':\n",
    "    print('empty string is true')\n",
    "if 'word':\n",
    "    print('word is true')\n",
    "if []:\n",
    "    print('empty list is true')\n",
    "if [1, 2, 3]:\n",
    "    print('non-empty list is true')\n",
    "if 0:\n",
    "    print('zero is true')\n",
    "if 1:\n",
    "    print('one is true')"
   ]
  },
  {
   "cell_type": "code",
   "execution_count": 23,
   "id": "1b1b2370-f306-4623-8c79-67c28b9a09c8",
   "metadata": {},
   "outputs": [
    {
     "name": "stdout",
     "output_type": "stream",
     "text": [
      "empty string is not true\n",
      "not not True is true\n"
     ]
    }
   ],
   "source": [
    "if not '':\n",
    "    print('empty string is not true')\n",
    "if not 'word':\n",
    "    print('word is not true')\n",
    "if not not True:\n",
    "    print('not not True is true')"
   ]
  },
  {
   "cell_type": "code",
   "execution_count": 32,
   "id": "59f0f561-8f78-4b26-9d47-4a1733d34b71",
   "metadata": {},
   "outputs": [
    {
     "name": "stdout",
     "output_type": "stream",
     "text": [
      "Variable b with value 1.1 is within 10% of variable a with value 1.0\n"
     ]
    }
   ],
   "source": [
    "a = 1.0\n",
    "b = 1.1\n",
    "if abs(a - b) <= 0.1 * abs(b):\n",
    "    print(f\"Variable b with value {b} is within 10% of variable a with value {a}\")\n",
    "else:\n",
    "    print(f\"Variable b with value {b} is not within 10% of variable a with value {a}\")"
   ]
  },
  {
   "cell_type": "markdown",
   "id": "78d71a4c-806f-4cd9-9158-8c8825cd418d",
   "metadata": {},
   "source": [
    "Write some code that sums the positive and negative numbers in a list separately, using in-place operators. Do you think the result is more or less readable than writing the same without in-place operators?"
   ]
  },
  {
   "cell_type": "code",
   "execution_count": 33,
   "id": "e453798f-c799-406e-ba8a-c758755e3dd0",
   "metadata": {},
   "outputs": [
    {
     "name": "stdout",
     "output_type": "stream",
     "text": [
      "21 -14\n"
     ]
    }
   ],
   "source": [
    "positive_sum = 0\n",
    "negative_sum = 0\n",
    "test_list = [3, 4, 6, 1, -1, -5, 0, 7, -8]\n",
    "for num in test_list:\n",
    "    if num > 0:\n",
    "        positive_sum += num\n",
    "    elif num == 0:\n",
    "        pass\n",
    "    else:\n",
    "        negative_sum += num\n",
    "print(positive_sum, negative_sum)\n"
   ]
  },
  {
   "cell_type": "code",
   "execution_count": 34,
   "id": "22302e4f-aedf-4cda-8bb3-e8a15495b5f3",
   "metadata": {},
   "outputs": [
    {
     "name": "stdout",
     "output_type": "stream",
     "text": [
      "csv_files: ['wavesmonthly.csv', 'waves_00s.csv', 'waves_10s.csv', 'waves_80s.csv', 'waves_90s.csv']\n",
      "nc_files: ['multyear_hs_avg.nc']\n",
      "other_files: []\n"
     ]
    }
   ],
   "source": [
    "filenames = ['wavesmonthly.csv',\n",
    "        'waves_00s.csv',\n",
    "        'waves_10s.csv',\n",
    "        'waves_80s.csv',\n",
    "        'waves_90s.csv',\n",
    "        'multyear_hs_avg.nc']\n",
    "csv_files = []\n",
    "nc_files = []\n",
    "other_files = []\n",
    "\n",
    "for filename in filenames:\n",
    "    if filename.endswith('csv'):\n",
    "        csv_files.append(filename)\n",
    "    elif filename.endswith('nc'):\n",
    "        nc_files.append(filename)\n",
    "    else:\n",
    "        other_files.append(filename)\n",
    "\n",
    "print('csv_files:', csv_files)\n",
    "print('nc_files:', nc_files)\n",
    "print('other_files:', other_files)"
   ]
  },
  {
   "cell_type": "code",
   "execution_count": 35,
   "id": "5a8bb968-c382-41e3-b799-900d4074ef47",
   "metadata": {},
   "outputs": [
    {
     "name": "stdout",
     "output_type": "stream",
     "text": [
      "The number of vowels in this string is 6\n"
     ]
    }
   ],
   "source": [
    "vowels = 'aeiouAEIOU'\n",
    "sentence = 'Mary had a little lamb.'\n",
    "count = 0\n",
    "for char in sentence:\n",
    "    if char in vowels:\n",
    "        count += 1\n",
    "\n",
    "print('The number of vowels in this string is ' + str(count))"
   ]
  },
  {
   "cell_type": "code",
   "execution_count": 36,
   "id": "2a52177e-3dc8-433e-be1c-2dc0f74d9494",
   "metadata": {},
   "outputs": [],
   "source": [
    "import numpy as np"
   ]
  },
  {
   "cell_type": "code",
   "execution_count": null,
   "id": "d3affa15-50c2-4650-a5f6-29294eeaee84",
   "metadata": {},
   "outputs": [],
   "source": [
    "np.vstack("
   ]
  }
 ],
 "metadata": {
  "kernelspec": {
   "display_name": "Python 3 (ipykernel)",
   "language": "python",
   "name": "python3"
  },
  "language_info": {
   "codemirror_mode": {
    "name": "ipython",
    "version": 3
   },
   "file_extension": ".py",
   "mimetype": "text/x-python",
   "name": "python",
   "nbconvert_exporter": "python",
   "pygments_lexer": "ipython3",
   "version": "3.11.0"
  }
 },
 "nbformat": 4,
 "nbformat_minor": 5
}
