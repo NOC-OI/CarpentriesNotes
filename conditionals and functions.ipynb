{
 "cells": [
  {
   "cell_type": "markdown",
   "id": "6569d55e-56fb-406b-9be7-6f808f841e9d",
   "metadata": {},
   "source": [
    "# Conditionals\n",
    "* how do we make a program take action when certain conditions are satisifed?\n"
   ]
  },
  {
   "cell_type": "code",
   "execution_count": 1,
   "id": "1f2372ee-7220-4e73-a6fc-bacfa869699e",
   "metadata": {
    "tags": []
   },
   "outputs": [
    {
     "name": "stdout",
     "output_type": "stream",
     "text": [
      "Not greater\n",
      "done\n"
     ]
    }
   ],
   "source": [
    "num = 37\n",
    "if num > 100:\n",
    "    print(\"greater\")\n",
    "else:\n",
    "    print(\"Not greater\")\n",
    "print(\"done\")"
   ]
  },
  {
   "cell_type": "markdown",
   "id": "3bf7d1b5-c151-4e00-ab12-428dc2efad9b",
   "metadata": {},
   "source": [
    "* explain if\n",
    "* explain else\n",
    "* mention indentation, compare with for loops\n",
    "* show flowchart\n",
    "* we don't need an else, but nothing happens if the condition is false\n"
   ]
  },
  {
   "cell_type": "code",
   "execution_count": 2,
   "id": "fe98a545-7ad5-4269-a7a4-ac898a99cc83",
   "metadata": {
    "tags": []
   },
   "outputs": [
    {
     "name": "stdout",
     "output_type": "stream",
     "text": [
      "before conditional...\n",
      "...after conditional\n"
     ]
    }
   ],
   "source": [
    "num = 53\n",
    "print('before conditional...')\n",
    "if num > 100:\n",
    "    print(num, 'is greater than 100')\n",
    "print('...after conditional')\n"
   ]
  },
  {
   "cell_type": "markdown",
   "id": "4d782259-4a7a-48c2-9889-5cffe74dfc30",
   "metadata": {},
   "source": [
    "* we can chain several tests together with elif"
   ]
  },
  {
   "cell_type": "code",
   "execution_count": 3,
   "id": "630ad093-bdf0-49d2-9182-523f5ad5631f",
   "metadata": {
    "tags": []
   },
   "outputs": [
    {
     "name": "stdout",
     "output_type": "stream",
     "text": [
      "-3 is negative\n"
     ]
    }
   ],
   "source": [
    "num = -3\n",
    "\n",
    "if num > 0:\n",
    "    print(num, 'is positive')\n",
    "elif num == 0:\n",
    "    print(num, 'is zero')\n",
    "else:\n",
    "    print(num, 'is negative')\n"
   ]
  },
  {
   "cell_type": "markdown",
   "id": "6db9d55e-b415-4e03-a923-249d59e85a9a",
   "metadata": {},
   "source": [
    "* comparing in python, cover < > == != >= <=\n",
    "* combining operators: and, or"
   ]
  },
  {
   "cell_type": "code",
   "execution_count": 4,
   "id": "f79a6404-2975-439a-a43b-b207887d1c4b",
   "metadata": {
    "tags": []
   },
   "outputs": [
    {
     "name": "stdout",
     "output_type": "stream",
     "text": [
      "at least one part is false\n"
     ]
    }
   ],
   "source": [
    "if (1 > 0) and (-1 >= 0):\n",
    "    print('both parts are true')\n",
    "else:\n",
    "    print('at least one part is false')"
   ]
  },
  {
   "cell_type": "code",
   "execution_count": 5,
   "id": "81d9371e-d193-43e8-a781-ad400d3a992d",
   "metadata": {
    "tags": []
   },
   "outputs": [
    {
     "name": "stdout",
     "output_type": "stream",
     "text": [
      "at least one test is true\n"
     ]
    }
   ],
   "source": [
    "if (1 < 0) or (1 >= 0):\n",
    "    print('at least one test is true')"
   ]
  },
  {
   "cell_type": "markdown",
   "id": "84dd5af4-6e8e-426e-839d-ca72eb97f9c0",
   "metadata": {},
   "source": [
    "* True and False are booleans, 1 < 0 returns false, -1 < 0 True"
   ]
  },
  {
   "cell_type": "markdown",
   "id": "626c4dc7-3279-45f8-b9dc-6bae9036f521",
   "metadata": {
    "tags": []
   },
   "source": [
    "* making a descision on when it is safe to go to sea\n",
    "* we want waves under 3m\n",
    "* which months can we operate safely?"
   ]
  },
  {
   "cell_type": "code",
   "execution_count": 26,
   "id": "edb65d7e-dc73-4a45-b8af-ca52559f5842",
   "metadata": {
    "tags": []
   },
   "outputs": [
    {
     "name": "stdout",
     "output_type": "stream",
     "text": [
      "4.599567567567566\n"
     ]
    }
   ],
   "source": [
    "import numpy\n",
    "\n",
    "data = numpy.loadtxt(fname='data/wavesmonthly.csv', delimiter=',', skiprows=1)\n",
    "reshaped_data = numpy.reshape(data[:,2], [37,12])\n",
    "\n",
    "month0 = numpy.mean(reshaped_data, axis=0)[0]\n",
    "print(month0)\n",
    "if month0 < 3:\n",
    "    print(\"can't take passengers out\")"
   ]
  },
  {
   "cell_type": "code",
   "execution_count": 25,
   "id": "a20287b4-586b-4ce7-bc3e-869b9938640c",
   "metadata": {
    "tags": []
   },
   "outputs": [
    {
     "name": "stdout",
     "output_type": "stream",
     "text": [
      "Can't take any boats out to sea\n"
     ]
    }
   ],
   "source": [
    "if month0 < 3:\n",
    "    print(\"can't take passengers out\")\n",
    "elif month0 < 4:\n",
    "    print(\"Can take survey vehicles (but not passengers)\")\n",
    "else:\n",
    "    print(\"Can't take any boats out to sea\")\n"
   ]
  },
  {
   "cell_type": "code",
   "execution_count": 28,
   "id": "f0a2980d-0774-4030-8fa5-9c8b8e0f7ce6",
   "metadata": {
    "tags": []
   },
   "outputs": [
    {
     "name": "stdout",
     "output_type": "stream",
     "text": [
      "2.3072972972972976\n",
      "Can take passengers this month\n"
     ]
    }
   ],
   "source": [
    "#try it for june\n",
    "month5 = numpy.mean(reshaped_data, axis=0)[5]\n",
    "print(month5)\n",
    "\n",
    "if month5 < 3:\n",
    "    print('Can take passengers this month')\n",
    "elif month5 < 4:\n",
    "    print('Can take survey vehicles (but not passengers)')\n",
    "else:\n",
    "    print(\"Can't take any boats out to sea\")"
   ]
  },
  {
   "cell_type": "markdown",
   "id": "f9dc551b-f764-4d62-ab96-3a18644c75ba",
   "metadata": {},
   "source": [
    "* we can write a loop to test this for every month"
   ]
  },
  {
   "cell_type": "code",
   "execution_count": 29,
   "id": "2a4a6b42-346a-4723-98f2-328c51054116",
   "metadata": {
    "tags": []
   },
   "outputs": [
    {
     "name": "stdout",
     "output_type": "stream",
     "text": [
      "Month 0: we can't take any boats out to sea this month\n",
      "Month 1: we can't take any boats out to sea this month\n",
      "Month 2: we can't take any boats out to sea this month\n",
      "Month 3: we can take survey vehicles (but not passengers) this month\n",
      "Month 4: we can take passengers this month\n",
      "Month 5: we can take passengers this month\n",
      "Month 6: we can take passengers this month\n",
      "Month 7: we can take passengers this month\n",
      "Month 8: we can take passengers this month\n",
      "Month 9: we can take survey vehicles (but not passengers) this month\n",
      "Month 10: we can take survey vehicles (but not passengers) this month\n",
      "Month 11: we can't take any boats out to sea this month\n"
     ]
    }
   ],
   "source": [
    "for month_index, monthly_waveheight in enumerate(numpy.mean(reshaped_data, axis=0)):\n",
    "    if monthly_waveheight < 3:\n",
    "        print(f\"Month {month_index}: we can take passengers this month\")\n",
    "    elif monthly_waveheight < 4:\n",
    "        print(f\"Month {month_index}: we can take survey vehicles (but not passengers) this month\")\n",
    "    else:\n",
    "        print(f\"Month {month_index}: we can't take any boats out to sea this month\")\n"
   ]
  },
  {
   "cell_type": "markdown",
   "id": "3ee37488-fd80-408d-82d8-119be9089aea",
   "metadata": {},
   "source": [
    "* remember enumerate gives us the index and the value, pythonic way to get index values in a loop"
   ]
  },
  {
   "cell_type": "markdown",
   "id": "aa95c6a2-663e-460f-b6a0-9c2ed8038bc8",
   "metadata": {},
   "source": [
    "* could now use this to suggest a plan for a ferry company\n",
    "\n",
    "## Exercises"
   ]
  },
  {
   "cell_type": "code",
   "execution_count": 30,
   "id": "fb577e0d-9c33-4e45-adcb-bd5ff828ac3b",
   "metadata": {
    "tags": []
   },
   "outputs": [
    {
     "name": "stdout",
     "output_type": "stream",
     "text": [
      "C\n"
     ]
    }
   ],
   "source": [
    "if 4 > 5:\n",
    "    print('A')\n",
    "elif 4 == 5:\n",
    "    print('B')\n",
    "elif 4 < 5:\n",
    "    print('C')\n",
    "\n"
   ]
  },
  {
   "cell_type": "code",
   "execution_count": 31,
   "id": "fd48f78b-0c8b-406d-b193-c75948c7966e",
   "metadata": {
    "tags": []
   },
   "outputs": [
    {
     "name": "stdout",
     "output_type": "stream",
     "text": [
      "word is true\n",
      "non-empty list is true\n",
      "one is true\n"
     ]
    }
   ],
   "source": [
    "if '':\n",
    "    print('empty string is true')\n",
    "if 'word':\n",
    "    print('word is true')\n",
    "if []:\n",
    "    print('empty list is true')\n",
    "if [1, 2, 3]:\n",
    "    print('non-empty list is true')\n",
    "if 0:\n",
    "    print('zero is true')\n",
    "if 1:\n",
    "    print('one is true')\n",
    "\n"
   ]
  },
  {
   "cell_type": "code",
   "execution_count": 32,
   "id": "645b9072-550b-4013-a488-e59a829a397e",
   "metadata": {
    "tags": []
   },
   "outputs": [
    {
     "name": "stdout",
     "output_type": "stream",
     "text": [
      "empty string is not true\n",
      "not not True is true\n"
     ]
    }
   ],
   "source": [
    "if not '':\n",
    "    print('empty string is not true')\n",
    "if not 'word':\n",
    "    print('word is not true')\n",
    "if not not True:\n",
    "    print('not not True is true')\n",
    "\n"
   ]
  },
  {
   "cell_type": "code",
   "execution_count": 40,
   "id": "f1647089-d2de-4aa6-8793-2f0b1c351a25",
   "metadata": {
    "tags": []
   },
   "outputs": [
    {
     "name": "stdout",
     "output_type": "stream",
     "text": [
      "True\n"
     ]
    }
   ],
   "source": [
    "a = 5\n",
    "b = 5.5\n",
    "\n",
    "if abs(a - b) <= 0.1 * abs(b):\n",
    "    print('True')\n",
    "else:\n",
    "    print('False')\n",
    "\n"
   ]
  },
  {
   "cell_type": "code",
   "execution_count": 41,
   "id": "3bdd42c4-8889-471b-9039-e0ee76042ba9",
   "metadata": {
    "tags": []
   },
   "outputs": [
    {
     "name": "stdout",
     "output_type": "stream",
     "text": [
      "True\n"
     ]
    }
   ],
   "source": [
    "print(abs(a - b) <= 0.1 * abs(b))\n",
    "\n"
   ]
  },
  {
   "cell_type": "code",
   "execution_count": 42,
   "id": "10999790-3c7c-483b-b11f-c9b1682f5e16",
   "metadata": {
    "tags": []
   },
   "outputs": [
    {
     "name": "stdout",
     "output_type": "stream",
     "text": [
      "6\n"
     ]
    }
   ],
   "source": [
    "x = 1  # original value\n",
    "x += 1 # add one to x, assigning result back to x\n",
    "x *= 3 # multiply x by 3\n",
    "print(x)\n"
   ]
  },
  {
   "cell_type": "code",
   "execution_count": 43,
   "id": "6af07106-8b51-481a-bc67-772f8a4d5989",
   "metadata": {
    "tags": []
   },
   "outputs": [],
   "source": [
    "filenames = ['wavesmonthly.csv',\n",
    "         'waves_00s.csv',\n",
    "         'waves_10s.csv',\n",
    "         'waves_80s.csv',\n",
    "         'waves_90s.csv',\n",
    "         'multyear_hs_avg.nc']\n",
    "csv_files = []\n",
    "nc_files = []\n",
    "\n"
   ]
  },
  {
   "cell_type": "code",
   "execution_count": 44,
   "id": "c9d4926b-c3f8-42db-a17d-01ee0e241958",
   "metadata": {
    "tags": []
   },
   "outputs": [],
   "source": [
    "csv_files = ['waves_00s.csv', 'waves_10s.csv', 'waves_80s.csv', 'waves_90s.csv', 'wavesmonthly.csv']\n",
    "nc_files = ['multyear_hs_avg.nc']\n",
    "\n"
   ]
  },
  {
   "cell_type": "code",
   "execution_count": 46,
   "id": "fd024596-1af0-467f-bd9a-daec06da1ce7",
   "metadata": {
    "tags": []
   },
   "outputs": [
    {
     "name": "stdout",
     "output_type": "stream",
     "text": [
      "csv_files: ['wavesmonthly.csv', 'waves_00s.csv', 'waves_10s.csv', 'waves_80s.csv', 'waves_90s.csv']\n",
      "nc_files: ['multyear_hs_avg.nc']\n",
      "other_files: []\n"
     ]
    }
   ],
   "source": [
    "csv_files = []\n",
    "nc_files = []\n",
    "other_files = []\n",
    "\n",
    "for filename in filenames:\n",
    "    if filename.endswith('csv'):\n",
    "        csv_files.append(filename)\n",
    "    elif filename.endswith('nc'):\n",
    "        nc_files.append(filename)\n",
    "    else:\n",
    "        other_files.append(filename)\n",
    "\n",
    "print('csv_files:', csv_files)\n",
    "print('nc_files:', nc_files)\n",
    "print('other_files:', other_files)\n",
    "\n"
   ]
  },
  {
   "cell_type": "code",
   "execution_count": 47,
   "id": "921ebf0d-9d68-433a-b537-32d7e05a18ad",
   "metadata": {
    "tags": []
   },
   "outputs": [
    {
     "name": "stdout",
     "output_type": "stream",
     "text": [
      "The number of vowels in this string is 6\n"
     ]
    }
   ],
   "source": [
    "vowels = 'aeiouAEIOU'\n",
    "sentence = 'Mary had a little lamb.'\n",
    "count = 0\n",
    "for char in sentence:\n",
    "    if char in vowels:\n",
    "        count += 1\n",
    "\n",
    "print('The number of vowels in this string is ' + str(count))\n",
    "\n"
   ]
  },
  {
   "cell_type": "markdown",
   "id": "7b3409c8-32ff-4951-b083-327d65561768",
   "metadata": {},
   "source": [
    "## Recap\n",
    "* Use if condition to start a conditional statement, elif condition to provide additional tests, and else to provide a default.\n",
    "* The bodies of the branches of conditional statements must be indented.\n",
    "* Use == to test for equality.\n",
    "* X and Y is only true if both X and Y are true.\n",
    "* X or Y is true if either X or Y, or both, are true.\n",
    "* Zero, the empty string, and the empty list are considered false; all other numbers, strings, and lists are considered true.\n",
    "* True and False represent truth values."
   ]
  },
  {
   "cell_type": "markdown",
   "id": "0d8ebf84-5350-4c54-ab02-2b95b00a5e6a",
   "metadata": {},
   "source": [
    "# Creating Functions\n",
    "* code is getting long and complicated now\n",
    "* what if we had lots of datasets to apply it to? don't want figures for each\n",
    "* needs modularising into functions\n",
    "* create a fahr_to_celsius function"
   ]
  },
  {
   "cell_type": "code",
   "execution_count": 48,
   "id": "6b172aee-f63a-44d3-934f-7baf4a5affa8",
   "metadata": {
    "tags": []
   },
   "outputs": [],
   "source": [
    "def fahr_to_celsius(temp):\n",
    "    return ((temp - 32) * (5/9))"
   ]
  },
  {
   "cell_type": "markdown",
   "id": "e8b147ba-1ae0-449e-a761-a0402fdea86c",
   "metadata": {},
   "source": [
    "* def statement, function name, parameter names, return statement, return value"
   ]
  },
  {
   "cell_type": "code",
   "execution_count": 49,
   "id": "407c9366-56ce-4e4b-8c40-29da014aa0c8",
   "metadata": {
    "tags": []
   },
   "outputs": [
    {
     "data": {
      "text/plain": [
       "0.0"
      ]
     },
     "execution_count": 49,
     "metadata": {},
     "output_type": "execute_result"
    }
   ],
   "source": [
    "fahr_to_celsius(32)"
   ]
  },
  {
   "cell_type": "code",
   "execution_count": 50,
   "id": "e34a67f7-b780-408c-b7c8-3876b4ddf17b",
   "metadata": {
    "tags": []
   },
   "outputs": [
    {
     "name": "stdout",
     "output_type": "stream",
     "text": [
      "freezing point of water: 0.0 C\n",
      "boiling point of water: 100.0 C\n"
     ]
    }
   ],
   "source": [
    "print('freezing point of water:', fahr_to_celsius(32), 'C')\n",
    "print('boiling point of water:', fahr_to_celsius(212), 'C')\n"
   ]
  },
  {
   "cell_type": "markdown",
   "id": "b0e03150-00b7-4dd5-a5df-743cbb76e9e9",
   "metadata": {},
   "source": [
    "* write a celsius to kelvin function as well"
   ]
  },
  {
   "cell_type": "code",
   "execution_count": 51,
   "id": "646ebbda-4a54-4e6e-bfc9-12cbe2481666",
   "metadata": {
    "tags": []
   },
   "outputs": [
    {
     "name": "stdout",
     "output_type": "stream",
     "text": [
      "freezing point of water in Kelvin: 273.15\n"
     ]
    }
   ],
   "source": [
    "def celsius_to_kelvin(temp_c):\n",
    "    return temp_c + 273.15\n",
    "\n",
    "print('freezing point of water in Kelvin:', celsius_to_kelvin(0.))\n"
   ]
  },
  {
   "cell_type": "markdown",
   "id": "abb956ca-336c-4d8b-bfb4-8935acf758b4",
   "metadata": {},
   "source": [
    "* what about fahrenheit to kelvin, we can combine our two existing functions"
   ]
  },
  {
   "cell_type": "code",
   "execution_count": 52,
   "id": "5e282c22-1996-4ca7-8090-60ce4ef6bc27",
   "metadata": {
    "tags": []
   },
   "outputs": [
    {
     "name": "stdout",
     "output_type": "stream",
     "text": [
      "boiling point of water in Kelvin: 373.15\n"
     ]
    }
   ],
   "source": [
    "def fahr_to_kelvin(temp_f):\n",
    "    temp_c = fahr_to_celsius(temp_f)\n",
    "    temp_k = celsius_to_kelvin(temp_c)\n",
    "    return temp_k\n",
    "\n",
    "print('boiling point of water in Kelvin:', fahr_to_kelvin(212.0))\n"
   ]
  },
  {
   "cell_type": "markdown",
   "id": "c1f418f1-fd47-421c-ba13-35bba36f9d1b",
   "metadata": {},
   "source": [
    "* real functions usually a bit bigger, 10s of lines\n",
    "\n",
    "* variable scope, variables inside functions are local to function\n"
   ]
  },
  {
   "cell_type": "code",
   "execution_count": 53,
   "id": "e0ac2340-ad15-47c5-87f9-5ccc820a0e4d",
   "metadata": {
    "tags": []
   },
   "outputs": [
    {
     "ename": "NameError",
     "evalue": "name 'temp_k' is not defined",
     "output_type": "error",
     "traceback": [
      "\u001b[0;31m---------------------------------------------------------------------------\u001b[0m",
      "\u001b[0;31mNameError\u001b[0m                                 Traceback (most recent call last)",
      "Cell \u001b[0;32mIn[53], line 1\u001b[0m\n\u001b[0;32m----> 1\u001b[0m \u001b[38;5;28mprint\u001b[39m(\u001b[38;5;124m'\u001b[39m\u001b[38;5;124mAgain, temperature in Kelvin was:\u001b[39m\u001b[38;5;124m'\u001b[39m, \u001b[43mtemp_k\u001b[49m)\n",
      "\u001b[0;31mNameError\u001b[0m: name 'temp_k' is not defined"
     ]
    }
   ],
   "source": [
    "print('Again, temperature in Kelvin was:', temp_k)"
   ]
  },
  {
   "cell_type": "markdown",
   "id": "013e2740-51d6-4d82-8957-07a8c0966a4e",
   "metadata": {},
   "source": [
    "* can't access temp_k variable that was used inside the function\n",
    "* variables can be global, accessible in and out of the function"
   ]
  },
  {
   "cell_type": "code",
   "execution_count": 55,
   "id": "91748541-d554-4aee-965a-af6a3ff54ad6",
   "metadata": {
    "tags": []
   },
   "outputs": [
    {
     "name": "stdout",
     "output_type": "stream",
     "text": [
      "temperature in Fahrenheit was: 212.0\n",
      "temperature in Kelvin was: 373.15\n"
     ]
    }
   ],
   "source": [
    "def print_temperatures():\n",
    "  print('temperature in Fahrenheit was:', temp_fahr)\n",
    "  print('temperature in Kelvin was:', temp_kelvin)\n",
    "\n",
    "temp_fahr = 212.0\n",
    "temp_kelvin = fahr_to_kelvin(temp_fahr)\n",
    "\n",
    "print_temperatures()\n"
   ]
  },
  {
   "cell_type": "markdown",
   "id": "36a01af1-6b9e-4ba6-86f4-c5b69ca01f44",
   "metadata": {},
   "source": [
    "* let's tidy up the plotting code we wrote before\n"
   ]
  },
  {
   "cell_type": "code",
   "execution_count": 112,
   "id": "eff600fc-9ff2-471e-9497-73e633a1f07a",
   "metadata": {
    "tags": []
   },
   "outputs": [],
   "source": [
    "import matplotlib.pyplot\n",
    "\n",
    "def visualize(filename):\n",
    "\n",
    "    data = numpy.loadtxt(fname=filename, delimiter=',')\n",
    "    reshaped_data = numpy.reshape(data[:,2], [10,12])\n",
    "\n",
    "    fig = matplotlib.pyplot.figure(figsize=(10.0, 3.0))\n",
    "\n",
    "    axes1 = fig.add_subplot(1, 3, 1)\n",
    "    axes2 = fig.add_subplot(1, 3, 2)\n",
    "    axes3 = fig.add_subplot(1, 3, 3)\n",
    "\n",
    "    axes1.set_ylabel('average')\n",
    "    axes1.plot(numpy.mean(reshaped_data, axis=0))\n",
    "\n",
    "    axes2.set_ylabel('max')\n",
    "    axes2.plot(numpy.max(reshaped_data, axis=0))\n",
    "\n",
    "    axes3.set_ylabel('min')\n",
    "    axes3.plot(numpy.min(reshaped_data, axis=0))\n",
    "\n",
    "    fig.tight_layout()\n",
    "    matplotlib.pyplot.show()\n"
   ]
  },
  {
   "cell_type": "code",
   "execution_count": 113,
   "id": "e1720f6b-ee64-4837-8bc8-8be738f11816",
   "metadata": {
    "tags": []
   },
   "outputs": [],
   "source": [
    "def detect_problems(filename):\n",
    "\n",
    "    data = numpy.loadtxt(fname=filename, delimiter=',')\n",
    "    \n",
    "    reshaped_data = numpy.reshape(data[:,2], [10,12])\n",
    "\n",
    "    if numpy.max(reshaped_data, axis=0)[0] == 0 and numpy.max(reshaped_data, axis=0)[11] == 11:\n",
    "        print('Suspicious looking maxima!')\n",
    "    elif numpy.sum(numpy.min(reshaped_data, axis=0)) == 0:\n",
    "        print('Minima add up to zero!')\n",
    "    else:\n",
    "        print('Seems OK!')\n"
   ]
  },
  {
   "cell_type": "code",
   "execution_count": 114,
   "id": "0a6c23f8-4b0e-4de8-b43c-c5dbe6f4884f",
   "metadata": {
    "tags": []
   },
   "outputs": [
    {
     "name": "stdout",
     "output_type": "stream",
     "text": [
      "data/waves_00s.csv\n"
     ]
    },
    {
     "data": {
      "image/png": "[encoded data removed]",
      "text/plain": [
       "<Figure size 1000x300 with 3 Axes>"
      ]
     },
     "metadata": {},
     "output_type": "display_data"
    },
    {
     "name": "stdout",
     "output_type": "stream",
     "text": [
      "Seems OK!\n",
      "data/waves_10s.csv\n"
     ]
    },
    {
     "ename": "ValueError",
     "evalue": "cannot reshape array of size 72 into shape (10,12)",
     "output_type": "error",
     "traceback": [
      "\u001b[0;31m---------------------------------------------------------------------------\u001b[0m",
      "\u001b[0;31mValueError\u001b[0m                                Traceback (most recent call last)",
      "Cell \u001b[0;32mIn[114], line 7\u001b[0m\n\u001b[1;32m      5\u001b[0m \u001b[38;5;28;01mfor\u001b[39;00m filename \u001b[38;5;129;01min\u001b[39;00m filenames[:\u001b[38;5;241m3\u001b[39m]:\n\u001b[1;32m      6\u001b[0m     \u001b[38;5;28mprint\u001b[39m(filename)\n\u001b[0;32m----> 7\u001b[0m     \u001b[43mvisualize\u001b[49m\u001b[43m(\u001b[49m\u001b[43mfilename\u001b[49m\u001b[43m)\u001b[49m\n\u001b[1;32m      8\u001b[0m     detect_problems(filename)\n",
      "Cell \u001b[0;32mIn[112], line 6\u001b[0m, in \u001b[0;36mvisualize\u001b[0;34m(filename)\u001b[0m\n\u001b[1;32m      3\u001b[0m \u001b[38;5;28;01mdef\u001b[39;00m \u001b[38;5;21mvisualize\u001b[39m(filename):\n\u001b[1;32m      5\u001b[0m     data \u001b[38;5;241m=\u001b[39m numpy\u001b[38;5;241m.\u001b[39mloadtxt(fname\u001b[38;5;241m=\u001b[39mfilename, delimiter\u001b[38;5;241m=\u001b[39m\u001b[38;5;124m'\u001b[39m\u001b[38;5;124m,\u001b[39m\u001b[38;5;124m'\u001b[39m)\n\u001b[0;32m----> 6\u001b[0m     reshaped_data \u001b[38;5;241m=\u001b[39m \u001b[43mnumpy\u001b[49m\u001b[38;5;241;43m.\u001b[39;49m\u001b[43mreshape\u001b[49m\u001b[43m(\u001b[49m\u001b[43mdata\u001b[49m\u001b[43m[\u001b[49m\u001b[43m:\u001b[49m\u001b[43m,\u001b[49m\u001b[38;5;241;43m2\u001b[39;49m\u001b[43m]\u001b[49m\u001b[43m,\u001b[49m\u001b[43m \u001b[49m\u001b[43m[\u001b[49m\u001b[38;5;241;43m10\u001b[39;49m\u001b[43m,\u001b[49m\u001b[38;5;241;43m12\u001b[39;49m\u001b[43m]\u001b[49m\u001b[43m)\u001b[49m\n\u001b[1;32m      8\u001b[0m     fig \u001b[38;5;241m=\u001b[39m matplotlib\u001b[38;5;241m.\u001b[39mpyplot\u001b[38;5;241m.\u001b[39mfigure(figsize\u001b[38;5;241m=\u001b[39m(\u001b[38;5;241m10.0\u001b[39m, \u001b[38;5;241m3.0\u001b[39m))\n\u001b[1;32m     10\u001b[0m     axes1 \u001b[38;5;241m=\u001b[39m fig\u001b[38;5;241m.\u001b[39madd_subplot(\u001b[38;5;241m1\u001b[39m, \u001b[38;5;241m3\u001b[39m, \u001b[38;5;241m1\u001b[39m)\n",
      "File \u001b[0;32m<__array_function__ internals>:180\u001b[0m, in \u001b[0;36mreshape\u001b[0;34m(*args, **kwargs)\u001b[0m\n",
      "File \u001b[0;32m~/mambaforge/envs/pangeo/lib/python3.10/site-packages/numpy/core/fromnumeric.py:298\u001b[0m, in \u001b[0;36mreshape\u001b[0;34m(a, newshape, order)\u001b[0m\n\u001b[1;32m    198\u001b[0m \u001b[38;5;129m@array_function_dispatch\u001b[39m(_reshape_dispatcher)\n\u001b[1;32m    199\u001b[0m \u001b[38;5;28;01mdef\u001b[39;00m \u001b[38;5;21mreshape\u001b[39m(a, newshape, order\u001b[38;5;241m=\u001b[39m\u001b[38;5;124m'\u001b[39m\u001b[38;5;124mC\u001b[39m\u001b[38;5;124m'\u001b[39m):\n\u001b[1;32m    200\u001b[0m \u001b[38;5;250m    \u001b[39m\u001b[38;5;124;03m\"\"\"\u001b[39;00m\n\u001b[1;32m    201\u001b[0m \u001b[38;5;124;03m    Gives a new shape to an array without changing its data.\u001b[39;00m\n\u001b[1;32m    202\u001b[0m \n\u001b[0;32m   (...)\u001b[0m\n\u001b[1;32m    296\u001b[0m \u001b[38;5;124;03m           [5, 6]])\u001b[39;00m\n\u001b[1;32m    297\u001b[0m \u001b[38;5;124;03m    \"\"\"\u001b[39;00m\n\u001b[0;32m--> 298\u001b[0m     \u001b[38;5;28;01mreturn\u001b[39;00m \u001b[43m_wrapfunc\u001b[49m\u001b[43m(\u001b[49m\u001b[43ma\u001b[49m\u001b[43m,\u001b[49m\u001b[43m \u001b[49m\u001b[38;5;124;43m'\u001b[39;49m\u001b[38;5;124;43mreshape\u001b[39;49m\u001b[38;5;124;43m'\u001b[39;49m\u001b[43m,\u001b[49m\u001b[43m \u001b[49m\u001b[43mnewshape\u001b[49m\u001b[43m,\u001b[49m\u001b[43m \u001b[49m\u001b[43morder\u001b[49m\u001b[38;5;241;43m=\u001b[39;49m\u001b[43morder\u001b[49m\u001b[43m)\u001b[49m\n",
      "File \u001b[0;32m~/mambaforge/envs/pangeo/lib/python3.10/site-packages/numpy/core/fromnumeric.py:57\u001b[0m, in \u001b[0;36m_wrapfunc\u001b[0;34m(obj, method, *args, **kwds)\u001b[0m\n\u001b[1;32m     54\u001b[0m     \u001b[38;5;28;01mreturn\u001b[39;00m _wrapit(obj, method, \u001b[38;5;241m*\u001b[39margs, \u001b[38;5;241m*\u001b[39m\u001b[38;5;241m*\u001b[39mkwds)\n\u001b[1;32m     56\u001b[0m \u001b[38;5;28;01mtry\u001b[39;00m:\n\u001b[0;32m---> 57\u001b[0m     \u001b[38;5;28;01mreturn\u001b[39;00m \u001b[43mbound\u001b[49m\u001b[43m(\u001b[49m\u001b[38;5;241;43m*\u001b[39;49m\u001b[43margs\u001b[49m\u001b[43m,\u001b[49m\u001b[43m \u001b[49m\u001b[38;5;241;43m*\u001b[39;49m\u001b[38;5;241;43m*\u001b[39;49m\u001b[43mkwds\u001b[49m\u001b[43m)\u001b[49m\n\u001b[1;32m     58\u001b[0m \u001b[38;5;28;01mexcept\u001b[39;00m \u001b[38;5;167;01mTypeError\u001b[39;00m:\n\u001b[1;32m     59\u001b[0m     \u001b[38;5;66;03m# A TypeError occurs if the object does have such a method in its\u001b[39;00m\n\u001b[1;32m     60\u001b[0m     \u001b[38;5;66;03m# class, but its signature is not identical to that of NumPy's. This\u001b[39;00m\n\u001b[0;32m   (...)\u001b[0m\n\u001b[1;32m     64\u001b[0m     \u001b[38;5;66;03m# Call _wrapit from within the except clause to ensure a potential\u001b[39;00m\n\u001b[1;32m     65\u001b[0m     \u001b[38;5;66;03m# exception has a traceback chain.\u001b[39;00m\n\u001b[1;32m     66\u001b[0m     \u001b[38;5;28;01mreturn\u001b[39;00m _wrapit(obj, method, \u001b[38;5;241m*\u001b[39margs, \u001b[38;5;241m*\u001b[39m\u001b[38;5;241m*\u001b[39mkwds)\n",
      "\u001b[0;31mValueError\u001b[0m: cannot reshape array of size 72 into shape (10,12)"
     ]
    }
   ],
   "source": [
    "import glob\n",
    "\n",
    "filenames = sorted(glob.glob('data/waves_*.csv'))\n",
    "\n",
    "for filename in filenames[:3]:\n",
    "    print(filename)\n",
    "    visualize(filename)\n",
    "    detect_problems(filename)\n"
   ]
  },
  {
   "cell_type": "markdown",
   "id": "aea1e663-adc6-405c-98f0-1167343db85a",
   "metadata": {},
   "source": [
    "* functions can be re-used\n",
    "* lets have one to offset a dataset so that it's mean shifts"
   ]
  },
  {
   "cell_type": "code",
   "execution_count": 64,
   "id": "074af060-3a80-41e4-acb2-5cafc108172b",
   "metadata": {
    "tags": []
   },
   "outputs": [],
   "source": [
    "def offset_mean(data, target_mean_value):\n",
    "    return (data - numpy.mean(data)) + target_mean_value\n"
   ]
  },
  {
   "cell_type": "markdown",
   "id": "563e2d90-fc62-430c-8a49-4356c62b818e",
   "metadata": {},
   "source": [
    "* use some dummy data to test it"
   ]
  },
  {
   "cell_type": "code",
   "execution_count": 65,
   "id": "8a7d19d0-7ed7-4e58-8ce6-39d12e10cce3",
   "metadata": {
    "tags": []
   },
   "outputs": [
    {
     "name": "stdout",
     "output_type": "stream",
     "text": [
      "[[3. 3.]\n",
      " [3. 3.]]\n"
     ]
    }
   ],
   "source": [
    "z = numpy.zeros((2,2))\n",
    "print(offset_mean(z, 3))\n"
   ]
  },
  {
   "cell_type": "code",
   "execution_count": 72,
   "id": "87328874-61a7-4606-9b13-4e96055c5981",
   "metadata": {
    "tags": []
   },
   "outputs": [
    {
     "name": "stdout",
     "output_type": "stream",
     "text": [
      "[[ 4.04436937e-01  3.84436937e-01  1.39043694e+00 -5.65563063e-01\n",
      "  -6.49563063e-01 -1.29756306e+00 -1.31756306e+00 -1.14756306e+00\n",
      "  -6.15630631e-02  1.28436937e-01  9.64436937e-01  1.24443694e+00]\n",
      " [ 2.82436937e-01  9.42436937e-01  1.38436937e-01 -2.03563063e-01\n",
      "  -1.42956306e+00 -1.66356306e+00 -1.52356306e+00 -1.43356306e+00\n",
      "  -2.73563063e-01  3.96436937e-01  9.04369369e-02  1.89643694e+00]\n",
      " [ 1.68443694e+00  1.57043694e+00  3.86436937e-01 -9.81563063e-01\n",
      "  -1.21756306e+00 -1.29956306e+00 -1.13756306e+00 -1.15556306e+00\n",
      "  -7.49563063e-01  1.02643694e+00  9.58436937e-01 -1.03563063e-01]\n",
      " [ 3.46436937e-01  1.50243694e+00  1.37643694e+00 -1.95563063e-01\n",
      "  -8.55563063e-01 -1.72156306e+00 -1.43156306e+00 -9.95563063e-01\n",
      "  -4.75630631e-02  6.50436937e-01  1.11843694e+00  2.05443694e+00]\n",
      " [ 3.57243694e+00 -2.75630631e-02  1.04243694e+00 -3.63563063e-01\n",
      "  -1.48156306e+00 -9.91563063e-01 -1.14156306e+00 -1.06556306e+00\n",
      "  -7.33563063e-01  9.58436937e-01 -1.55563063e-01  1.16043694e+00]\n",
      " [ 2.15643694e+00  1.79043694e+00 -6.27563063e-01 -3.79563063e-01\n",
      "  -1.40356306e+00 -1.22756306e+00 -1.71556306e+00 -1.29956306e+00\n",
      "  -6.83563063e-01  1.04369369e-02  1.32436937e-01  1.40643694e+00]\n",
      " [-2.21563063e-01  3.20436937e-01  4.20436937e-01 -2.23563063e-01\n",
      "  -1.17756306e+00 -1.36156306e+00 -1.37956306e+00 -1.17956306e+00\n",
      "  -7.71563063e-01 -5.35630631e-02  7.64369369e-02  8.74436937e-01]\n",
      " [ 1.73843694e+00 -7.21563063e-01  1.86843694e+00 -9.29563063e-01\n",
      "  -7.75563063e-01 -1.25956306e+00 -1.58956306e+00 -1.71756306e+00\n",
      "  -2.85563063e-01  1.52643694e+00  1.76643694e+00  1.91243694e+00]\n",
      " [-3.77563063e-01  3.18436937e-01  8.32436937e-01 -4.09563063e-01\n",
      "  -9.55563063e-01 -1.56356306e+00 -1.45356306e+00 -1.41956306e+00\n",
      "  -8.15630631e-02 -2.03563063e-01  5.84369369e-02  1.80436937e-01]\n",
      " [ 9.20436937e-01  7.42436937e-01  3.40436937e-01 -6.57563063e-01\n",
      "  -9.63563063e-01 -1.21356306e+00 -1.28756306e+00 -1.10356306e+00\n",
      "  -3.85563063e-01 -3.19563063e-01  6.44369369e-02  1.69843694e+00]\n",
      " [ 2.88843694e+00  2.69043694e+00  1.31843694e+00 -8.11563063e-01\n",
      "  -6.97563063e-01 -1.37956306e+00 -1.31756306e+00 -6.05563063e-01\n",
      "   3.86436937e-01  2.92436937e-01 -4.03563063e-01  4.90436937e-01]\n",
      " [ 2.62443694e+00  2.50843694e+00  2.78443694e+00  1.85443694e+00\n",
      "   1.15043694e+00  1.20043694e+00  1.26443694e+00  1.30443694e+00\n",
      "   1.68043694e+00  1.64843694e+00  1.52843694e+00  2.14643694e+00]\n",
      " [ 1.04443694e+00  5.98436937e-01  8.44369369e-02 -6.95630631e-02\n",
      "  -9.79563063e-01 -1.51356306e+00 -1.76356306e+00 -9.21563063e-01\n",
      "  -6.15563063e-01  4.38436937e-01  9.86436937e-01  1.56643694e+00]\n",
      " [ 1.16643694e+00  2.18243694e+00  1.45443694e+00 -2.55563063e-01\n",
      "  -8.81563063e-01 -1.03556306e+00 -1.13556306e+00 -1.11356306e+00\n",
      "  -8.47563063e-01 -4.07563063e-01  1.24443694e+00  1.37443694e+00]\n",
      " [ 3.08643694e+00  1.44043694e+00  1.28643694e+00 -3.93563063e-01\n",
      "  -1.07556306e+00 -1.12556306e+00 -1.38556306e+00 -9.73563063e-01\n",
      "  -1.54956306e+00 -7.75630631e-02  8.96436937e-01  1.54443694e+00]\n",
      " [ 2.28243694e+00  1.08443694e+00  2.80043694e+00  8.14436937e-01\n",
      "  -1.18556306e+00 -7.77563063e-01 -1.23756306e+00 -1.48756306e+00\n",
      "  -8.37563063e-01 -4.89563063e-01  5.04436937e-01  1.95043694e+00]\n",
      " [ 1.72843694e+00  2.04443694e+00  1.18443694e+00  2.78436937e-01\n",
      "  -1.33556306e+00 -1.62156306e+00 -1.37356306e+00 -1.20156306e+00\n",
      "  -5.09563063e-01  2.56436937e-01 -1.37563063e-01 -1.47563063e-01]\n",
      " [ 2.64436937e-01  6.78436937e-01 -4.39563063e-01 -4.81563063e-01\n",
      "  -1.20556306e+00 -1.01556306e+00 -1.23156306e+00 -1.30556306e+00\n",
      "  -8.47563063e-01  6.48436937e-01  5.58436937e-01 -2.35563063e-01]\n",
      " [ 2.60436937e-01  2.60436937e-01  1.91643694e+00  2.22443694e+00\n",
      "   1.28443694e+00  1.37043694e+00 -9.37563063e-01 -4.07563063e-01\n",
      "  -9.45563063e-01 -1.39156306e+00 -1.26156306e+00 -1.45756306e+00]\n",
      " [-1.41156306e+00 -1.52756306e+00 -9.75563063e-01 -1.01156306e+00\n",
      "  -2.71563063e-01 -3.19563063e-01 -1.41563063e-01 -2.27563063e-01\n",
      "   4.32436937e-01  3.38436937e-01  1.37843694e+00  1.14843694e+00]\n",
      " [ 1.23243694e+00  2.46043694e+00  4.46436937e-01 -3.11563063e-01\n",
      "  -7.41563063e-01 -1.15556306e+00 -1.35156306e+00 -1.65756306e+00\n",
      "  -5.07563063e-01  2.54436937e-01  7.26436937e-01  9.58436937e-01]\n",
      " [ 1.64243694e+00  2.31443694e+00  6.34436937e-01 -1.11563063e-01\n",
      "  -1.15356306e+00 -1.04356306e+00 -1.54556306e+00 -1.57356306e+00\n",
      "  -5.69563063e-01  7.66436937e-01 -1.55563063e-01  3.14436937e-01]\n",
      " [ 2.02436937e-01  7.92436937e-01 -4.39563063e-01 -4.73563063e-01\n",
      "  -1.11956306e+00 -1.06756306e+00 -1.31556306e+00 -1.25756306e+00\n",
      "  -7.53563063e-01 -2.29563063e-01  1.33443694e+00  9.64369369e-02]\n",
      " [ 1.57443694e+00  2.45043694e+00  8.54436937e-01 -2.75630631e-02\n",
      "  -8.95563063e-01 -1.01956306e+00 -1.37756306e+00 -1.42156306e+00\n",
      "  -1.31556306e+00 -2.49563063e-01  6.70436937e-01 -3.21563063e-01]\n",
      " [ 1.25643694e+00  1.68043694e+00  5.70436937e-01 -9.57563063e-01\n",
      "  -1.05756306e+00 -1.33156306e+00 -1.88756306e+00 -1.48356306e+00\n",
      "  -2.41563063e-01  4.24369369e-02  3.64369369e-02  4.26436937e-01]\n",
      " [ 7.84436937e-01  5.84436937e-01  5.96436937e-01 -5.65563063e-01\n",
      "  -7.65563063e-01 -1.23956306e+00 -1.58356306e+00 -1.30756306e+00\n",
      "   3.24369369e-02 -4.41563063e-01  6.32436937e-01  2.23643694e+00]\n",
      " [ 1.85043694e+00  3.82436937e-01 -1.56306306e-03  1.64369369e-02\n",
      "  -1.33156306e+00 -1.29156306e+00 -1.41356306e+00 -1.12156306e+00\n",
      "  -3.19563063e-01  3.94436937e-01  9.50436937e-01  1.10443694e+00]\n",
      " [ 1.50643694e+00  3.56436937e-01 -4.21563063e-01  1.62436937e-01\n",
      "  -1.04756306e+00 -1.44156306e+00 -1.21156306e+00 -9.55563063e-01\n",
      "  -7.23563063e-01  6.24369369e-02  1.10243694e+00  1.00443694e+00]\n",
      " [ 7.04436937e-01  9.84369369e-02  7.50436937e-01 -2.61563063e-01\n",
      "  -3.21563063e-01 -6.31563063e-01 -5.81563063e-01 -1.41563063e-01\n",
      "  -1.15630631e-02 -4.55630631e-02  1.82436937e-01  6.18436937e-01]\n",
      " [ 7.92436937e-01  8.62436937e-01  8.43693694e-03 -2.53563063e-01\n",
      "  -6.97563063e-01 -4.51563063e-01 -5.45563063e-01 -4.65563063e-01\n",
      "  -9.75630631e-02  7.62436937e-01  2.28436937e-01  3.98436937e-01]\n",
      " [ 1.39443694e+00  2.18436937e-01  6.76436937e-01 -5.17563063e-01\n",
      "  -9.35630631e-02 -1.82556306e+00 -1.58356306e+00 -1.21556306e+00\n",
      "  -3.95630631e-02 -3.59563063e-01  3.16436937e-01  4.42436937e-01]\n",
      " [ 3.90436937e-01 -6.39563063e-01 -2.07563063e-01 -5.65563063e-01\n",
      "  -1.27156306e+00 -1.42956306e+00 -1.10356306e+00 -1.47756306e+00\n",
      "  -5.07563063e-01 -6.95630631e-02 -1.35630631e-02 -2.49563063e-01]\n",
      " [ 5.54436937e-01  2.23443694e+00  7.22436937e-01  6.62436937e-01\n",
      "  -8.71563063e-01 -1.28956306e+00 -1.33556306e+00 -1.33956306e+00\n",
      "  -1.61563063e-01  7.50436937e-01  8.94436937e-01  1.94043694e+00]\n",
      " [ 1.76443694e+00  1.23443694e+00  9.72436937e-01 -8.01563063e-01\n",
      "  -8.13563063e-01 -1.64356306e+00 -1.17756306e+00 -1.32156306e+00\n",
      "   2.34436937e-01 -8.51563063e-01  5.26436937e-01  5.44436937e-01]\n",
      " [ 8.86436937e-01  7.06436937e-01  3.12436937e-01 -8.15630631e-02\n",
      "  -8.81563063e-01 -1.61156306e+00 -1.36756306e+00 -1.21156306e+00\n",
      "  -3.49563063e-01  7.84369369e-02  4.72436937e-01  2.37643694e+00]\n",
      " [ 9.10436937e-01  4.10436937e-01  1.26243694e+00 -1.71563063e-01\n",
      "  -1.15756306e+00 -1.82556306e+00 -1.48956306e+00 -1.29156306e+00\n",
      "  -8.03563063e-01  4.86436937e-01 -2.75563063e-01  2.66043694e+00]\n",
      " [ 3.10443694e+00  2.57043694e+00  8.76436937e-01  2.45443694e+00\n",
      "   1.49843694e+00  2.94436937e-01 -7.55630631e-02 -5.97563063e-01\n",
      "  -6.73563063e-01 -3.37563063e-01  1.23843694e+00  1.66443694e+00]]\n"
     ]
    }
   ],
   "source": [
    "data = numpy.loadtxt(fname='data/wavesmonthly.csv', delimiter=',', skiprows=1)\n",
    "reshaped_data = numpy.reshape(data[:,2], [37,12])\n",
    "print(offset_mean(reshaped_data, 0))\n"
   ]
  },
  {
   "cell_type": "code",
   "execution_count": 75,
   "id": "98580643-0b2e-47fe-8f46-694b5b904168",
   "metadata": {
    "tags": []
   },
   "outputs": [
    {
     "name": "stdout",
     "output_type": "stream",
     "text": [
      "original min, mean, and max are: 1.496 3.383563063063063 6.956\n",
      "min, mean, and max of offset data are: -1.8875630630630629 1.960393809248024e-16 3.5724369369369375\n"
     ]
    }
   ],
   "source": [
    "print('original min, mean, and max are:', numpy.min(reshaped_data), numpy.mean(reshaped_data), numpy.max(reshaped_data))\n",
    "offset_data = offset_mean(reshaped_data, 0)\n",
    "print('min, mean, and max of offset data are:',\n",
    "      numpy.min(offset_data),\n",
    "      numpy.mean(offset_data),\n",
    "      numpy.max(offset_data))\n"
   ]
  },
  {
   "cell_type": "code",
   "execution_count": 76,
   "id": "c06d1028-f5cc-4006-97a4-a89e953d6d95",
   "metadata": {
    "tags": []
   },
   "outputs": [
    {
     "name": "stdout",
     "output_type": "stream",
     "text": [
      "std dev before and after: 1.1440155050316319 1.144015505031632\n"
     ]
    }
   ],
   "source": [
    "print('std dev before and after:', numpy.std(reshaped_data), numpy.std(offset_data))\n"
   ]
  },
  {
   "cell_type": "code",
   "execution_count": 78,
   "id": "bf83db08-41aa-41f5-8120-e7ef660847ab",
   "metadata": {
    "tags": []
   },
   "outputs": [
    {
     "name": "stdout",
     "output_type": "stream",
     "text": [
      "difference in standard deviations before and after: -2.220446049250313e-16\n"
     ]
    }
   ],
   "source": [
    "print('difference in standard deviations before and after:',\n",
    "      numpy.std(reshaped_data) - numpy.std(offset_data))\n"
   ]
  },
  {
   "cell_type": "markdown",
   "id": "6546bebb-e79c-4416-831a-64fa4106ebbe",
   "metadata": {},
   "source": [
    "* difference in standard deviations is very small\n",
    "* one more task, documentation, lets add some comments about our function"
   ]
  },
  {
   "cell_type": "code",
   "execution_count": 79,
   "id": "814cf098-c08d-47cd-9399-e081c16c5615",
   "metadata": {
    "tags": []
   },
   "outputs": [],
   "source": [
    "# offset_mean(data, target_mean_value):\n",
    "# return a new array containing the original data with its mean offset to match the desired value.\n",
    "def offset_mean(data, target_mean_value):\n",
    "    return (data - numpy.mean(data)) + target_mean_value\n"
   ]
  },
  {
   "cell_type": "markdown",
   "id": "7fe4cfe3-a544-43fa-ab92-7ff7597c4ee4",
   "metadata": {},
   "source": [
    "* better way to do it:"
   ]
  },
  {
   "cell_type": "code",
   "execution_count": 80,
   "id": "d8b03d2d-d2eb-483a-9ebd-0b33754e6fdf",
   "metadata": {
    "tags": []
   },
   "outputs": [],
   "source": [
    "def offset_mean(data, target_mean_value):\n",
    "    \"\"\"Return a new array containing the original data\n",
    "       with its mean offset to match the desired value.\"\"\"\n",
    "    return (data - numpy.mean(data)) + target_mean_value\n"
   ]
  },
  {
   "cell_type": "markdown",
   "id": "882ca7c4-8a19-4e0d-85ac-4a75a718ffc5",
   "metadata": {},
   "source": [
    "* this works with python's built in help function.\n",
    "* called a docstring\n",
    "* triple quotes allows a multiline comment\n"
   ]
  },
  {
   "cell_type": "code",
   "execution_count": 81,
   "id": "d1d5fd21-3198-4733-a1fe-bbe34d5361cf",
   "metadata": {
    "tags": []
   },
   "outputs": [
    {
     "name": "stdout",
     "output_type": "stream",
     "text": [
      "Help on function offset_mean in module __main__:\n",
      "\n",
      "offset_mean(data, target_mean_value)\n",
      "    Return a new array containing the original data\n",
      "    with its mean offset to match the desired value.\n",
      "\n"
     ]
    }
   ],
   "source": [
    "help(offset_mean)"
   ]
  },
  {
   "cell_type": "code",
   "execution_count": 82,
   "id": "6708400d-f667-414c-9046-0c529896cce7",
   "metadata": {
    "tags": []
   },
   "outputs": [
    {
     "name": "stdout",
     "output_type": "stream",
     "text": [
      "Help on function offset_mean in module __main__:\n",
      "\n",
      "offset_mean(data, target_mean_value)\n",
      "    Return a new array containing the original data\n",
      "       with its mean offset to match the desired value.\n",
      "    \n",
      "    Examples\n",
      "    --------\n",
      "    >>> offset_mean([1, 2, 3], 0)\n",
      "    array([-1.,  0.,  1.])\n",
      "\n"
     ]
    }
   ],
   "source": [
    "def offset_mean(data, target_mean_value):\n",
    "    \"\"\"Return a new array containing the original data\n",
    "       with its mean offset to match the desired value.\n",
    "\n",
    "    Examples\n",
    "    --------\n",
    "    >>> offset_mean([1, 2, 3], 0)\n",
    "    array([-1.,  0.,  1.])\n",
    "    \"\"\"\n",
    "    return (data - numpy.mean(data)) + target_mean_value\n",
    "\n",
    "help(offset_mean)"
   ]
  },
  {
   "cell_type": "markdown",
   "id": "14bfc1b0-d89c-4dd1-a7e1-c7f52d6f2690",
   "metadata": {},
   "source": [
    "* we've passed data in named and unmamed arguments\n",
    "* could have done filename in loadtxt without a name"
   ]
  },
  {
   "cell_type": "code",
   "execution_count": 84,
   "id": "5bf96578-ffd0-451e-a926-0063427dad6f",
   "metadata": {
    "tags": []
   },
   "outputs": [
    {
     "data": {
      "text/plain": [
       "array([[1.979e+03, 1.000e+00, 3.788e+00],\n",
       "       [1.979e+03, 2.000e+00, 3.768e+00],\n",
       "       [1.979e+03, 3.000e+00, 4.774e+00],\n",
       "       ...,\n",
       "       [2.015e+03, 1.000e+01, 3.046e+00],\n",
       "       [2.015e+03, 1.100e+01, 4.622e+00],\n",
       "       [2.015e+03, 1.200e+01, 5.048e+00]])"
      ]
     },
     "execution_count": 84,
     "metadata": {},
     "output_type": "execute_result"
    }
   ],
   "source": [
    "numpy.loadtxt('data/wavesmonthly.csv', delimiter=',', skiprows=1)"
   ]
  },
  {
   "cell_type": "markdown",
   "id": "ea51359d-1196-4904-a256-ee4f1353d028",
   "metadata": {
    "tags": []
   },
   "source": [
    "* doesn't work for the delimiter\n"
   ]
  },
  {
   "cell_type": "code",
   "execution_count": 86,
   "id": "297db42d-6e6e-4bea-9494-384169a7b160",
   "metadata": {
    "tags": []
   },
   "outputs": [
    {
     "ename": "SyntaxError",
     "evalue": "invalid syntax (<unknown>, line 1)",
     "output_type": "error",
     "traceback": [
      "Traceback \u001b[0;36m(most recent call last)\u001b[0m:\n",
      "\u001b[0m  File \u001b[1;32m~/mambaforge/envs/pangeo/lib/python3.10/site-packages/IPython/core/interactiveshell.py:3442\u001b[0m in \u001b[1;35mrun_code\u001b[0m\n    exec(code_obj, self.user_global_ns, self.user_ns)\u001b[0m\n",
      "\u001b[0m  Cell \u001b[1;32mIn[86], line 1\u001b[0m\n    numpy.loadtxt('data/wavesmonthly.csv', ',', skiprows=1)\u001b[0m\n",
      "\u001b[0m  File \u001b[1;32m~/mambaforge/envs/pangeo/lib/python3.10/site-packages/numpy/lib/npyio.py:1338\u001b[0m in \u001b[1;35mloadtxt\u001b[0m\n    arr = _read(fname, dtype=dtype, comment=comment, delimiter=delimiter,\u001b[0m\n",
      "\u001b[0m  File \u001b[1;32m~/mambaforge/envs/pangeo/lib/python3.10/site-packages/numpy/lib/npyio.py:900\u001b[0m in \u001b[1;35m_read\u001b[0m\n    dtype = np.dtype(dtype)\u001b[0m\n",
      "\u001b[0m  File \u001b[1;32m~/mambaforge/envs/pangeo/lib/python3.10/site-packages/numpy/core/_internal.py:200\u001b[0m in \u001b[1;35m_commastring\u001b[0m\n    newitem = (dtype, ast.literal_eval(repeats))\u001b[0m\n",
      "\u001b[0m  File \u001b[1;32m~/mambaforge/envs/pangeo/lib/python3.10/ast.py:64\u001b[0m in \u001b[1;35mliteral_eval\u001b[0m\n    node_or_string = parse(node_or_string.lstrip(\" \\t\"), mode='eval')\u001b[0m\n",
      "\u001b[0;36m  File \u001b[0;32m~/mambaforge/envs/pangeo/lib/python3.10/ast.py:50\u001b[0;36m in \u001b[0;35mparse\u001b[0;36m\n\u001b[0;31m    return compile(source, filename, mode, flags,\u001b[0;36m\n",
      "\u001b[0;36m  File \u001b[0;32m<unknown>:1\u001b[0;36m\u001b[0m\n\u001b[0;31m    ,\u001b[0m\n\u001b[0m    ^\u001b[0m\n\u001b[0;31mSyntaxError\u001b[0m\u001b[0;31m:\u001b[0m invalid syntax\n"
     ]
    }
   ],
   "source": [
    "numpy.loadtxt('data/wavesmonthly.csv', ',', skiprows=1)"
   ]
  },
  {
   "cell_type": "markdown",
   "id": "ad42a03a-8806-40c6-993d-ecdc1fe0928a",
   "metadata": {},
   "source": [
    "* redefine offset_mean to include a named parameter"
   ]
  },
  {
   "cell_type": "code",
   "execution_count": 87,
   "id": "6488715a-655d-4095-ba36-43a506ab1a09",
   "metadata": {
    "tags": []
   },
   "outputs": [],
   "source": [
    "def offset_mean(data, target_mean_value=0.0):\n",
    "    \"\"\"Return a new array containing the original data\n",
    "       with its mean offset to match the desired value, (0 by default).\n",
    "\n",
    "    Examples\n",
    "    --------\n",
    "    >>> offset_mean([1, 2, 3])\n",
    "    array([-1.,  0.,  1.])\n",
    "    \"\"\"\n",
    "    return (data - numpy.mean(data)) + target_mean_value\n"
   ]
  },
  {
   "cell_type": "markdown",
   "id": "84e9645f-123f-4a29-8208-a61e156af1b1",
   "metadata": {},
   "source": [
    "* if we call with two arguments things work as they did before\n",
    "* but call with one and target_mean_value is assumed to be 0.0"
   ]
  },
  {
   "cell_type": "code",
   "execution_count": 88,
   "id": "7dbdea00-9cad-4141-bc1c-d49a63215678",
   "metadata": {
    "tags": []
   },
   "outputs": [
    {
     "name": "stdout",
     "output_type": "stream",
     "text": [
      "[[3. 3.]\n",
      " [3. 3.]]\n"
     ]
    }
   ],
   "source": [
    "test_data = numpy.zeros((2, 2))\n",
    "print(offset_mean(test_data, 3))\n"
   ]
  },
  {
   "cell_type": "code",
   "execution_count": 89,
   "id": "f97da7fd-f176-471b-91a2-3eaf1612f32f",
   "metadata": {
    "tags": []
   },
   "outputs": [
    {
     "name": "stdout",
     "output_type": "stream",
     "text": [
      "data before mean offset:\n",
      "[[5. 5.]\n",
      " [5. 5.]]\n",
      "offset data:\n",
      "[[0. 0.]\n",
      " [0. 0.]]\n"
     ]
    }
   ],
   "source": [
    "more_data = 5 + numpy.zeros((2, 2))\n",
    "print('data before mean offset:')\n",
    "print(more_data)\n",
    "print('offset data:')\n",
    "print(offset_mean(more_data))\n"
   ]
  },
  {
   "cell_type": "markdown",
   "id": "97ca509d-5dc2-4fef-86b5-4a0fa04949a9",
   "metadata": {},
   "source": [
    "* useful if we occasionally want a different paramter, but most of the time we don't want to specify it\n",
    "* example of python matching different function calls"
   ]
  },
  {
   "cell_type": "code",
   "execution_count": 90,
   "id": "0c0f1a86-d093-4bc4-9fe4-0b5d8d0350c9",
   "metadata": {
    "tags": []
   },
   "outputs": [
    {
     "name": "stdout",
     "output_type": "stream",
     "text": [
      "no parameters:\n",
      "a: 1 b: 2 c: 3\n",
      "one parameter:\n",
      "a: 55 b: 2 c: 3\n",
      "two parameters:\n",
      "a: 55 b: 66 c: 3\n"
     ]
    }
   ],
   "source": [
    "def display(a=1, b=2, c=3):\n",
    "    print('a:', a, 'b:', b, 'c:', c)\n",
    "\n",
    "print('no parameters:')\n",
    "display()\n",
    "print('one parameter:')\n",
    "display(55)\n",
    "print('two parameters:')\n",
    "display(55, 66)\n"
   ]
  },
  {
   "cell_type": "code",
   "execution_count": 91,
   "id": "871cd273-48a2-4d7e-b9ea-5a6611c9069e",
   "metadata": {
    "tags": []
   },
   "outputs": [
    {
     "name": "stdout",
     "output_type": "stream",
     "text": [
      "only setting the value of c\n",
      "a: 1 b: 2 c: 77\n"
     ]
    }
   ],
   "source": [
    "print('only setting the value of c')\n",
    "display(c=77)\n"
   ]
  },
  {
   "cell_type": "markdown",
   "id": "ad7211cc-3954-4ba6-b229-24e9a114aee5",
   "metadata": {
    "tags": []
   },
   "source": [
    "* look at help text for numpy.loadtxt"
   ]
  },
  {
   "cell_type": "code",
   "execution_count": 93,
   "id": "ffa62b4b-1151-4095-bd31-01991b083c59",
   "metadata": {
    "tags": []
   },
   "outputs": [
    {
     "name": "stdout",
     "output_type": "stream",
     "text": [
      "Help on function loadtxt in module numpy:\n",
      "\n",
      "loadtxt(fname, dtype=<class 'float'>, comments='#', delimiter=None, converters=None, skiprows=0, usecols=None, unpack=False, ndmin=0, encoding='bytes', max_rows=None, *, quotechar=None, like=None)\n",
      "    Load data from a text file.\n",
      "    \n",
      "    Each row in the text file must have the same number of values.\n",
      "    \n",
      "    Parameters\n",
      "    ----------\n",
      "    fname : file, str, pathlib.Path, list of str, generator\n",
      "        File, filename, list, or generator to read.  If the filename\n",
      "        extension is ``.gz`` or ``.bz2``, the file is first decompressed. Note\n",
      "        that generators must return bytes or strings. The strings\n",
      "        in a list or produced by a generator are treated as lines.\n",
      "    dtype : data-type, optional\n",
      "        Data-type of the resulting array; default: float.  If this is a\n",
      "        structured data-type, the resulting array will be 1-dimensional, and\n",
      "        each row will be interpreted as an element of the array.  In this\n",
      "        case, the number of columns used must match the number of fields in\n",
      "        the data-type.\n",
      "    comments : str or sequence of str or None, optional\n",
      "        The characters or list of characters used to indicate the start of a\n",
      "        comment. None implies no comments. For backwards compatibility, byte\n",
      "        strings will be decoded as 'latin1'. The default is '#'.\n",
      "    delimiter : str, optional\n",
      "        The character used to separate the values. For backwards compatibility,\n",
      "        byte strings will be decoded as 'latin1'. The default is whitespace.\n",
      "    \n",
      "        .. versionchanged:: 1.23.0\n",
      "           Only single character delimiters are supported. Newline characters\n",
      "           cannot be used as the delimiter.\n",
      "    \n",
      "    converters : dict or callable, optional\n",
      "        A function to parse all columns strings into the desired value, or\n",
      "        a dictionary mapping column number to a parser function.\n",
      "        E.g. if column 0 is a date string: ``converters = {0: datestr2num}``.\n",
      "        Converters can also be used to provide a default value for missing\n",
      "        data, e.g. ``converters = lambda s: float(s.strip() or 0)`` will\n",
      "        convert empty fields to 0.\n",
      "        Default: None.\n",
      "    \n",
      "        .. versionchanged:: 1.23.0\n",
      "           The ability to pass a single callable to be applied to all columns\n",
      "           was added.\n",
      "    \n",
      "    skiprows : int, optional\n",
      "        Skip the first `skiprows` lines, including comments; default: 0.\n",
      "    usecols : int or sequence, optional\n",
      "        Which columns to read, with 0 being the first. For example,\n",
      "        ``usecols = (1,4,5)`` will extract the 2nd, 5th and 6th columns.\n",
      "        The default, None, results in all columns being read.\n",
      "    \n",
      "        .. versionchanged:: 1.11.0\n",
      "            When a single column has to be read it is possible to use\n",
      "            an integer instead of a tuple. E.g ``usecols = 3`` reads the\n",
      "            fourth column the same way as ``usecols = (3,)`` would.\n",
      "    unpack : bool, optional\n",
      "        If True, the returned array is transposed, so that arguments may be\n",
      "        unpacked using ``x, y, z = loadtxt(...)``.  When used with a\n",
      "        structured data-type, arrays are returned for each field.\n",
      "        Default is False.\n",
      "    ndmin : int, optional\n",
      "        The returned array will have at least `ndmin` dimensions.\n",
      "        Otherwise mono-dimensional axes will be squeezed.\n",
      "        Legal values: 0 (default), 1 or 2.\n",
      "    \n",
      "        .. versionadded:: 1.6.0\n",
      "    encoding : str, optional\n",
      "        Encoding used to decode the inputfile. Does not apply to input streams.\n",
      "        The special value 'bytes' enables backward compatibility workarounds\n",
      "        that ensures you receive byte arrays as results if possible and passes\n",
      "        'latin1' encoded strings to converters. Override this value to receive\n",
      "        unicode arrays and pass strings as input to converters.  If set to None\n",
      "        the system default is used. The default value is 'bytes'.\n",
      "    \n",
      "        .. versionadded:: 1.14.0\n",
      "    max_rows : int, optional\n",
      "        Read `max_rows` rows of content after `skiprows` lines. The default is\n",
      "        to read all the rows. Note that empty rows containing no data such as\n",
      "        empty lines and comment lines are not counted towards `max_rows`,\n",
      "        while such lines are counted in `skiprows`.\n",
      "    \n",
      "        .. versionadded:: 1.16.0\n",
      "        \n",
      "        .. versionchanged:: 1.23.0\n",
      "            Lines containing no data, including comment lines (e.g., lines \n",
      "            starting with '#' or as specified via `comments`) are not counted \n",
      "            towards `max_rows`.\n",
      "    quotechar : unicode character or None, optional\n",
      "        The character used to denote the start and end of a quoted item.\n",
      "        Occurrences of the delimiter or comment characters are ignored within\n",
      "        a quoted item. The default value is ``quotechar=None``, which means\n",
      "        quoting support is disabled.\n",
      "    \n",
      "        If two consecutive instances of `quotechar` are found within a quoted\n",
      "        field, the first is treated as an escape character. See examples.\n",
      "    \n",
      "        .. versionadded:: 1.23.0\n",
      "    like : array_like, optional\n",
      "        Reference object to allow the creation of arrays which are not\n",
      "        NumPy arrays. If an array-like passed in as ``like`` supports\n",
      "        the ``__array_function__`` protocol, the result will be defined\n",
      "        by it. In this case, it ensures the creation of an array object\n",
      "        compatible with that passed in via this argument.\n",
      "    \n",
      "        .. versionadded:: 1.20.0\n",
      "    \n",
      "    Returns\n",
      "    -------\n",
      "    out : ndarray\n",
      "        Data read from the text file.\n",
      "    \n",
      "    See Also\n",
      "    --------\n",
      "    load, fromstring, fromregex\n",
      "    genfromtxt : Load data with missing values handled as specified.\n",
      "    scipy.io.loadmat : reads MATLAB data files\n",
      "    \n",
      "    Notes\n",
      "    -----\n",
      "    This function aims to be a fast reader for simply formatted files.  The\n",
      "    `genfromtxt` function provides more sophisticated handling of, e.g.,\n",
      "    lines with missing values.\n",
      "    \n",
      "    .. versionadded:: 1.10.0\n",
      "    \n",
      "    The strings produced by the Python float.hex method can be used as\n",
      "    input for floats.\n",
      "    \n",
      "    Examples\n",
      "    --------\n",
      "    >>> from io import StringIO   # StringIO behaves like a file object\n",
      "    >>> c = StringIO(\"0 1\\n2 3\")\n",
      "    >>> np.loadtxt(c)\n",
      "    array([[0., 1.],\n",
      "           [2., 3.]])\n",
      "    \n",
      "    >>> d = StringIO(\"M 21 72\\nF 35 58\")\n",
      "    >>> np.loadtxt(d, dtype={'names': ('gender', 'age', 'weight'),\n",
      "    ...                      'formats': ('S1', 'i4', 'f4')})\n",
      "    array([(b'M', 21, 72.), (b'F', 35, 58.)],\n",
      "          dtype=[('gender', 'S1'), ('age', '<i4'), ('weight', '<f4')])\n",
      "    \n",
      "    >>> c = StringIO(\"1,0,2\\n3,0,4\")\n",
      "    >>> x, y = np.loadtxt(c, delimiter=',', usecols=(0, 2), unpack=True)\n",
      "    >>> x\n",
      "    array([1., 3.])\n",
      "    >>> y\n",
      "    array([2., 4.])\n",
      "    \n",
      "    The `converters` argument is used to specify functions to preprocess the\n",
      "    text prior to parsing. `converters` can be a dictionary that maps\n",
      "    preprocessing functions to each column:\n",
      "    \n",
      "    >>> s = StringIO(\"1.618, 2.296\\n3.141, 4.669\\n\")\n",
      "    >>> conv = {\n",
      "    ...     0: lambda x: np.floor(float(x)),  # conversion fn for column 0\n",
      "    ...     1: lambda x: np.ceil(float(x)),  # conversion fn for column 1\n",
      "    ... }\n",
      "    >>> np.loadtxt(s, delimiter=\",\", converters=conv)\n",
      "    array([[1., 3.],\n",
      "           [3., 5.]])\n",
      "    \n",
      "    `converters` can be a callable instead of a dictionary, in which case it\n",
      "    is applied to all columns:\n",
      "    \n",
      "    >>> s = StringIO(\"0xDE 0xAD\\n0xC0 0xDE\")\n",
      "    >>> import functools\n",
      "    >>> conv = functools.partial(int, base=16)\n",
      "    >>> np.loadtxt(s, converters=conv)\n",
      "    array([[222., 173.],\n",
      "           [192., 222.]])\n",
      "    \n",
      "    This example shows how `converters` can be used to convert a field\n",
      "    with a trailing minus sign into a negative number.\n",
      "    \n",
      "    >>> s = StringIO('10.01 31.25-\\n19.22 64.31\\n17.57- 63.94')\n",
      "    >>> def conv(fld):\n",
      "    ...     return -float(fld[:-1]) if fld.endswith(b'-') else float(fld)\n",
      "    ...\n",
      "    >>> np.loadtxt(s, converters=conv)\n",
      "    array([[ 10.01, -31.25],\n",
      "           [ 19.22,  64.31],\n",
      "           [-17.57,  63.94]])\n",
      "    \n",
      "    Using a callable as the converter can be particularly useful for handling\n",
      "    values with different formatting, e.g. floats with underscores:\n",
      "    \n",
      "    >>> s = StringIO(\"1 2.7 100_000\")\n",
      "    >>> np.loadtxt(s, converters=float)\n",
      "    array([1.e+00, 2.7e+00, 1.e+05])\n",
      "    \n",
      "    This idea can be extended to automatically handle values specified in\n",
      "    many different formats:\n",
      "    \n",
      "    >>> def conv(val):\n",
      "    ...     try:\n",
      "    ...         return float(val)\n",
      "    ...     except ValueError:\n",
      "    ...         return float.fromhex(val)\n",
      "    >>> s = StringIO(\"1, 2.5, 3_000, 0b4, 0x1.4000000000000p+2\")\n",
      "    >>> np.loadtxt(s, delimiter=\",\", converters=conv, encoding=None)\n",
      "    array([1.0e+00, 2.5e+00, 3.0e+03, 1.8e+02, 5.0e+00])\n",
      "    \n",
      "    Note that with the default ``encoding=\"bytes\"``, the inputs to the\n",
      "    converter function are latin-1 encoded byte strings. To deactivate the\n",
      "    implicit encoding prior to conversion, use ``encoding=None``\n",
      "    \n",
      "    >>> s = StringIO('10.01 31.25-\\n19.22 64.31\\n17.57- 63.94')\n",
      "    >>> conv = lambda x: -float(x[:-1]) if x.endswith('-') else float(x)\n",
      "    >>> np.loadtxt(s, converters=conv, encoding=None)\n",
      "    array([[ 10.01, -31.25],\n",
      "           [ 19.22,  64.31],\n",
      "           [-17.57,  63.94]])\n",
      "    \n",
      "    Support for quoted fields is enabled with the `quotechar` parameter.\n",
      "    Comment and delimiter characters are ignored when they appear within a\n",
      "    quoted item delineated by `quotechar`:\n",
      "    \n",
      "    >>> s = StringIO('\"alpha, #42\", 10.0\\n\"beta, #64\", 2.0\\n')\n",
      "    >>> dtype = np.dtype([(\"label\", \"U12\"), (\"value\", float)])\n",
      "    >>> np.loadtxt(s, dtype=dtype, delimiter=\",\", quotechar='\"')\n",
      "    array([('alpha, #42', 10.), ('beta, #64',  2.)],\n",
      "          dtype=[('label', '<U12'), ('value', '<f8')])\n",
      "    \n",
      "    Two consecutive quote characters within a quoted field are treated as a\n",
      "    single escaped character:\n",
      "    \n",
      "    >>> s = StringIO('\"Hello, my name is \"\"Monty\"\"!\"')\n",
      "    >>> np.loadtxt(s, dtype=\"U\", delimiter=\",\", quotechar='\"')\n",
      "    array('Hello, my name is \"Monty\"!', dtype='<U26')\n",
      "\n"
     ]
    }
   ],
   "source": [
    "help(numpy.loadtxt)"
   ]
  },
  {
   "cell_type": "markdown",
   "id": "87b4a0bf-4d94-4698-a589-8ae5a9c2371d",
   "metadata": {},
   "source": [
    "* most important info in the first couple of lines\n",
    "* if we call numpy.loadtxt('filename.csv', ',') we are actually sending , to the dtype parameter.\n",
    "* don't have to put fname= since it is first, do have to put delimiter if we don't want to also specify dtype and comments"
   ]
  },
  {
   "cell_type": "markdown",
   "id": "18494c51-ce98-4406-8409-ec98bb889070",
   "metadata": {},
   "source": [
    "* compare readability of the two different functions\n",
    "* they both do the same thing\n",
    "* they will run in the same time\n",
    "## Exercises"
   ]
  },
  {
   "cell_type": "code",
   "execution_count": 95,
   "id": "cccf64b7-32a1-4a81-8952-ac9979b31c90",
   "metadata": {
    "tags": []
   },
   "outputs": [
    {
     "name": "stdout",
     "output_type": "stream",
     "text": [
      "*name*\n"
     ]
    }
   ],
   "source": [
    "def fence(original, wrapper):\n",
    "    return wrapper + original + wrapper\n",
    "\n",
    "\n",
    "print(fence('name', '*'))"
   ]
  },
  {
   "cell_type": "code",
   "execution_count": 96,
   "id": "4455f69a-55b3-4648-996c-bfeaf195f3e8",
   "metadata": {
    "tags": []
   },
   "outputs": [
    {
     "name": "stdout",
     "output_type": "stream",
     "text": [
      "10\n",
      "None\n"
     ]
    }
   ],
   "source": [
    "def add(a, b):\n",
    "    print(a + b)\n",
    "\n",
    "A = add(7, 3)\n",
    "print(A)\n"
   ]
  },
  {
   "cell_type": "code",
   "execution_count": 98,
   "id": "af8f1c32-8249-4060-a479-464d0013fb5d",
   "metadata": {
    "tags": []
   },
   "outputs": [
    {
     "name": "stdout",
     "output_type": "stream",
     "text": [
      "hm\n"
     ]
    }
   ],
   "source": [
    "def outer(input_string):\n",
    "    return input_string[0] + input_string[-1]\n",
    "\n",
    "\n",
    "print(outer('helium'))"
   ]
  },
  {
   "cell_type": "code",
   "execution_count": 99,
   "id": "17216e2d-e35e-437e-9060-5d8cdabecdf4",
   "metadata": {
    "tags": []
   },
   "outputs": [],
   "source": [
    "def rescale(input_array):\n",
    "    L = numpy.min(input_array)\n",
    "    H = numpy.max(input_array)\n",
    "    output_array = (input_array - L) / (H - L)\n",
    "    return output_array\n",
    "\n"
   ]
  },
  {
   "cell_type": "code",
   "execution_count": 100,
   "id": "62ae7ec3-3464-4d25-9e3e-91bf43edd63e",
   "metadata": {
    "tags": []
   },
   "outputs": [
    {
     "name": "stdout",
     "output_type": "stream",
     "text": [
      "Help on built-in function arange in module numpy:\n",
      "\n",
      "arange(...)\n",
      "    arange([start,] stop[, step,], dtype=None, *, like=None)\n",
      "    \n",
      "    Return evenly spaced values within a given interval.\n",
      "    \n",
      "    ``arange`` can be called with a varying number of positional arguments:\n",
      "    \n",
      "    * ``arange(stop)``: Values are generated within the half-open interval\n",
      "      ``[0, stop)`` (in other words, the interval including `start` but\n",
      "      excluding `stop`).\n",
      "    * ``arange(start, stop)``: Values are generated within the half-open\n",
      "      interval ``[start, stop)``.\n",
      "    * ``arange(start, stop, step)`` Values are generated within the half-open\n",
      "      interval ``[start, stop)``, with spacing between values given by\n",
      "      ``step``.\n",
      "    \n",
      "    For integer arguments the function is roughly equivalent to the Python\n",
      "    built-in :py:class:`range`, but returns an ndarray rather than a ``range``\n",
      "    instance.\n",
      "    \n",
      "    When using a non-integer step, such as 0.1, it is often better to use\n",
      "    `numpy.linspace`.\n",
      "    \n",
      "    See the Warning sections below for more information.\n",
      "    \n",
      "    Parameters\n",
      "    ----------\n",
      "    start : integer or real, optional\n",
      "        Start of interval.  The interval includes this value.  The default\n",
      "        start value is 0.\n",
      "    stop : integer or real\n",
      "        End of interval.  The interval does not include this value, except\n",
      "        in some cases where `step` is not an integer and floating point\n",
      "        round-off affects the length of `out`.\n",
      "    step : integer or real, optional\n",
      "        Spacing between values.  For any output `out`, this is the distance\n",
      "        between two adjacent values, ``out[i+1] - out[i]``.  The default\n",
      "        step size is 1.  If `step` is specified as a position argument,\n",
      "        `start` must also be given.\n",
      "    dtype : dtype, optional\n",
      "        The type of the output array.  If `dtype` is not given, infer the data\n",
      "        type from the other input arguments.\n",
      "    like : array_like, optional\n",
      "        Reference object to allow the creation of arrays which are not\n",
      "        NumPy arrays. If an array-like passed in as ``like`` supports\n",
      "        the ``__array_function__`` protocol, the result will be defined\n",
      "        by it. In this case, it ensures the creation of an array object\n",
      "        compatible with that passed in via this argument.\n",
      "    \n",
      "        .. versionadded:: 1.20.0\n",
      "    \n",
      "    Returns\n",
      "    -------\n",
      "    arange : ndarray\n",
      "        Array of evenly spaced values.\n",
      "    \n",
      "        For floating point arguments, the length of the result is\n",
      "        ``ceil((stop - start)/step)``.  Because of floating point overflow,\n",
      "        this rule may result in the last element of `out` being greater\n",
      "        than `stop`.\n",
      "    \n",
      "    Warnings\n",
      "    --------\n",
      "    The length of the output might not be numerically stable.\n",
      "    \n",
      "    Another stability issue is due to the internal implementation of\n",
      "    `numpy.arange`.\n",
      "    The actual step value used to populate the array is\n",
      "    ``dtype(start + step) - dtype(start)`` and not `step`. Precision loss\n",
      "    can occur here, due to casting or due to using floating points when\n",
      "    `start` is much larger than `step`. This can lead to unexpected\n",
      "    behaviour. For example::\n",
      "    \n",
      "      >>> np.arange(0, 5, 0.5, dtype=int)\n",
      "      array([0, 0, 0, 0, 0, 0, 0, 0, 0, 0])\n",
      "      >>> np.arange(-3, 3, 0.5, dtype=int)\n",
      "      array([-3, -2, -1,  0,  1,  2,  3,  4,  5,  6,  7,  8])\n",
      "    \n",
      "    In such cases, the use of `numpy.linspace` should be preferred.\n",
      "    \n",
      "    The built-in :py:class:`range` generates :std:doc:`Python built-in integers\n",
      "    that have arbitrary size <c-api/long>`, while `numpy.arange` produces\n",
      "    `numpy.int32` or `numpy.int64` numbers. This may result in incorrect\n",
      "    results for large integer values::\n",
      "    \n",
      "      >>> power = 40\n",
      "      >>> modulo = 10000\n",
      "      >>> x1 = [(n ** power) % modulo for n in range(8)]\n",
      "      >>> x2 = [(n ** power) % modulo for n in np.arange(8)]\n",
      "      >>> print(x1)\n",
      "      [0, 1, 7776, 8801, 6176, 625, 6576, 4001]  # correct\n",
      "      >>> print(x2)\n",
      "      [0, 1, 7776, 7185, 0, 5969, 4816, 3361]  # incorrect\n",
      "    \n",
      "    See Also\n",
      "    --------\n",
      "    numpy.linspace : Evenly spaced numbers with careful handling of endpoints.\n",
      "    numpy.ogrid: Arrays of evenly spaced numbers in N-dimensions.\n",
      "    numpy.mgrid: Grid-shaped arrays of evenly spaced numbers in N-dimensions.\n",
      "    \n",
      "    Examples\n",
      "    --------\n",
      "    >>> np.arange(3)\n",
      "    array([0, 1, 2])\n",
      "    >>> np.arange(3.0)\n",
      "    array([ 0.,  1.,  2.])\n",
      "    >>> np.arange(3,7)\n",
      "    array([3, 4, 5, 6])\n",
      "    >>> np.arange(3,7,2)\n",
      "    array([3, 5])\n",
      "\n"
     ]
    }
   ],
   "source": [
    "help(numpy.arange)"
   ]
  },
  {
   "cell_type": "code",
   "execution_count": 101,
   "id": "987c0d4e-474e-4f3d-9dd0-e0ea97a6ab37",
   "metadata": {
    "tags": []
   },
   "outputs": [
    {
     "name": "stdout",
     "output_type": "stream",
     "text": [
      "Help on function linspace in module numpy:\n",
      "\n",
      "linspace(start, stop, num=50, endpoint=True, retstep=False, dtype=None, axis=0)\n",
      "    Return evenly spaced numbers over a specified interval.\n",
      "    \n",
      "    Returns `num` evenly spaced samples, calculated over the\n",
      "    interval [`start`, `stop`].\n",
      "    \n",
      "    The endpoint of the interval can optionally be excluded.\n",
      "    \n",
      "    .. versionchanged:: 1.16.0\n",
      "        Non-scalar `start` and `stop` are now supported.\n",
      "    \n",
      "    .. versionchanged:: 1.20.0\n",
      "        Values are rounded towards ``-inf`` instead of ``0`` when an\n",
      "        integer ``dtype`` is specified. The old behavior can\n",
      "        still be obtained with ``np.linspace(start, stop, num).astype(int)``\n",
      "    \n",
      "    Parameters\n",
      "    ----------\n",
      "    start : array_like\n",
      "        The starting value of the sequence.\n",
      "    stop : array_like\n",
      "        The end value of the sequence, unless `endpoint` is set to False.\n",
      "        In that case, the sequence consists of all but the last of ``num + 1``\n",
      "        evenly spaced samples, so that `stop` is excluded.  Note that the step\n",
      "        size changes when `endpoint` is False.\n",
      "    num : int, optional\n",
      "        Number of samples to generate. Default is 50. Must be non-negative.\n",
      "    endpoint : bool, optional\n",
      "        If True, `stop` is the last sample. Otherwise, it is not included.\n",
      "        Default is True.\n",
      "    retstep : bool, optional\n",
      "        If True, return (`samples`, `step`), where `step` is the spacing\n",
      "        between samples.\n",
      "    dtype : dtype, optional\n",
      "        The type of the output array.  If `dtype` is not given, the data type\n",
      "        is inferred from `start` and `stop`. The inferred dtype will never be\n",
      "        an integer; `float` is chosen even if the arguments would produce an\n",
      "        array of integers.\n",
      "    \n",
      "        .. versionadded:: 1.9.0\n",
      "    \n",
      "    axis : int, optional\n",
      "        The axis in the result to store the samples.  Relevant only if start\n",
      "        or stop are array-like.  By default (0), the samples will be along a\n",
      "        new axis inserted at the beginning. Use -1 to get an axis at the end.\n",
      "    \n",
      "        .. versionadded:: 1.16.0\n",
      "    \n",
      "    Returns\n",
      "    -------\n",
      "    samples : ndarray\n",
      "        There are `num` equally spaced samples in the closed interval\n",
      "        ``[start, stop]`` or the half-open interval ``[start, stop)``\n",
      "        (depending on whether `endpoint` is True or False).\n",
      "    step : float, optional\n",
      "        Only returned if `retstep` is True\n",
      "    \n",
      "        Size of spacing between samples.\n",
      "    \n",
      "    \n",
      "    See Also\n",
      "    --------\n",
      "    arange : Similar to `linspace`, but uses a step size (instead of the\n",
      "             number of samples).\n",
      "    geomspace : Similar to `linspace`, but with numbers spaced evenly on a log\n",
      "                scale (a geometric progression).\n",
      "    logspace : Similar to `geomspace`, but with the end points specified as\n",
      "               logarithms.\n",
      "    \n",
      "    Examples\n",
      "    --------\n",
      "    >>> np.linspace(2.0, 3.0, num=5)\n",
      "    array([2.  , 2.25, 2.5 , 2.75, 3.  ])\n",
      "    >>> np.linspace(2.0, 3.0, num=5, endpoint=False)\n",
      "    array([2. ,  2.2,  2.4,  2.6,  2.8])\n",
      "    >>> np.linspace(2.0, 3.0, num=5, retstep=True)\n",
      "    (array([2.  ,  2.25,  2.5 ,  2.75,  3.  ]), 0.25)\n",
      "    \n",
      "    Graphical illustration:\n",
      "    \n",
      "    >>> import matplotlib.pyplot as plt\n",
      "    >>> N = 8\n",
      "    >>> y = np.zeros(N)\n",
      "    >>> x1 = np.linspace(0, 10, N, endpoint=True)\n",
      "    >>> x2 = np.linspace(0, 10, N, endpoint=False)\n",
      "    >>> plt.plot(x1, y, 'o')\n",
      "    [<matplotlib.lines.Line2D object at 0x...>]\n",
      "    >>> plt.plot(x2, y + 0.5, 'o')\n",
      "    [<matplotlib.lines.Line2D object at 0x...>]\n",
      "    >>> plt.ylim([-0.5, 1])\n",
      "    (-0.5, 1)\n",
      "    >>> plt.show()\n",
      "\n"
     ]
    }
   ],
   "source": [
    "help(numpy.linspace)"
   ]
  },
  {
   "cell_type": "code",
   "execution_count": 102,
   "id": "76871e3a-a45e-4b8c-8c10-d1752a1e6d3d",
   "metadata": {
    "tags": []
   },
   "outputs": [],
   "source": [
    "def rescale(input_array, low_val=0.0, high_val=1.0):\n",
    "    \"\"\"rescales input array values to lie between low_val and high_val\"\"\"\n",
    "    L = numpy.min(input_array)\n",
    "    H = numpy.max(input_array)\n",
    "    intermed_array = (input_array - L) / (H - L)\n",
    "    output_array = intermed_array * (high_val - low_val) + low_val\n",
    "    return output_array\n",
    "\n"
   ]
  },
  {
   "cell_type": "code",
   "execution_count": 103,
   "id": "518cbc51-424f-4645-9116-4b8ef24bcd00",
   "metadata": {
    "tags": []
   },
   "outputs": [
    {
     "name": "stdout",
     "output_type": "stream",
     "text": [
      "259.81666666666666\n",
      "278.15\n",
      "273.15\n",
      "0\n"
     ]
    }
   ],
   "source": [
    "f = 0\n",
    "k = 0\n",
    "\n",
    "def f2k(f):\n",
    "    k = ((f - 32) * (5.0 / 9.0)) + 273.15\n",
    "    return k\n",
    "\n",
    "print(f2k(8))\n",
    "print(f2k(41))\n",
    "print(f2k(32))\n",
    "\n",
    "print(k)\n",
    "\n"
   ]
  },
  {
   "cell_type": "code",
   "execution_count": 104,
   "id": "b838a346-7718-40b8-b27d-cf078e86de15",
   "metadata": {
    "tags": []
   },
   "outputs": [
    {
     "ename": "SyntaxError",
     "evalue": "non-default argument follows default argument (589919717.py, line 1)",
     "output_type": "error",
     "traceback": [
      "\u001b[0;36m  Cell \u001b[0;32mIn[104], line 1\u001b[0;36m\u001b[0m\n\u001b[0;31m    def numbers(one, two=2, three, four=4):\u001b[0m\n\u001b[0m                            ^\u001b[0m\n\u001b[0;31mSyntaxError\u001b[0m\u001b[0;31m:\u001b[0m non-default argument follows default argument\n"
     ]
    }
   ],
   "source": [
    "def numbers(one, two=2, three, four=4):\n",
    "    n = str(one) + str(two) + str(three) + str(four)\n",
    "    return n\n",
    "\n",
    "print(numbers(1, three=3))\n",
    "\n"
   ]
  },
  {
   "cell_type": "code",
   "execution_count": 105,
   "id": "ae0f4736-4739-4a46-afbb-71b667aa4115",
   "metadata": {
    "tags": []
   },
   "outputs": [
    {
     "name": "stdout",
     "output_type": "stream",
     "text": [
      "a:  -1 b:  2 c: 6\n"
     ]
    }
   ],
   "source": [
    "def func(a, b=3, c=6):\n",
    "    print('a: ', a, 'b: ', b, 'c:', c)\n",
    "\n",
    "func(-1, 2)\n"
   ]
  },
  {
   "cell_type": "markdown",
   "id": "736c5fca-1e1f-470f-ba22-6760918fa9e6",
   "metadata": {},
   "source": [
    "## Key Points\n",
    "* Define a function using def function_name(parameter).\n",
    "* The body of a function must be indented.\n",
    "* Call a function using function_name(value).\n",
    "* Numbers are stored as integers or floating-point numbers.\n",
    "* Variables defined within a function can only be seen and used within the body of the function.\n",
    "* Variables created outside of any function are called global variables.\n",
    "* Within a function, we can access global variables.\n",
    "* Variables created within a function override global variables if their names match.\n",
    "* Use help(thing) to view help for something.\n",
    "* Put docstrings in functions to provide help for that function.\n",
    "* Specify default values for parameters when defining a function using name=value in the parameter list.\n",
    "* Parameters can be passed by matching based on name, by position, or by omitting them (in which case the default value is used).\n",
    "* Put code whose parameters change frequently in a function, then call it with different parameter values to customize its behavior.\n",
    "\n"
   ]
  },
  {
   "cell_type": "code",
   "execution_count": null,
   "id": "3a6a7c2a-651e-4238-aee0-fd39e9702097",
   "metadata": {},
   "outputs": [],
   "source": [
    "# What Next?\n",
    "* Explain RSE Team and RSEs in general\n",
    "* Training Survey\n",
    "* Workshops available on request\n",
    "* Research Computing Team\n",
    "* Code Surgery\n",
    "* Show and Tell"
   ]
  }
 ],
 "metadata": {
  "kernelspec": {
   "display_name": "Python 3 (ipykernel)",
   "language": "python",
   "name": "python3"
  },
  "language_info": {
   "codemirror_mode": {
    "name": "ipython",
    "version": 3
   },
   "file_extension": ".py",
   "mimetype": "text/x-python",
   "name": "python",
   "nbconvert_exporter": "python",
   "pygments_lexer": "ipython3",
   "version": "3.10.8"
  }
 },
 "nbformat": 4,
 "nbformat_minor": 5
}
